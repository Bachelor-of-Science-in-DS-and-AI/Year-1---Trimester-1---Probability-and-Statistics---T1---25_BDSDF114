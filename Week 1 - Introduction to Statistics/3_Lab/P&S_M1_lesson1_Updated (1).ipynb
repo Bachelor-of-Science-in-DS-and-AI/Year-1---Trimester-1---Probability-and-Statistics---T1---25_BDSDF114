{
  "nbformat": 4,
  "nbformat_minor": 0,
  "metadata": {
    "colab": {
      "provenance": []
    },
    "kernelspec": {
      "name": "python3",
      "display_name": "Python 3"
    },
    "language_info": {
      "name": "python"
    }
  },
  "cells": [
    {
      "cell_type": "markdown",
      "metadata": {
        "id": "_8K3QUFYTSLd"
      },
      "source": [
        "# P&S Module 1 - Lesson 1: Data Visualization using Frequency Tables\n",
        "\n",
        "**Course:** Probability and Statistics (First Semester)\n",
        "\n",
        "**Week 1:** Lesson 1 (Videos 2 & 3)\n",
        "\n",
        "**Topics Covered:**\n",
        "- Frequency Tables\n",
        "- Pie Charts\n",
        "- Histograms\n",
        "- Stem-and-Leaf Plots\n",
        "\n",
        "---"
      ]
    },
    {
      "cell_type": "markdown",
      "metadata": {
        "id": "3zwQDaXOTSLf"
      },
      "source": [
        "## Problem Statement\n",
        "\n",
        "We have collected exam scores from 20 students:\n",
        "\n",
        "**Scores:** 55, 67, 45, 89, 70, 90, 77, 85, 69, 72, 91, 83, 65, 74, 58, 60, 79, 68, 73, 81\n",
        "\n",
        "We need to:\n",
        "1. Create a frequency table\n",
        "2. Draw a pie chart\n",
        "3. Plot a histogram\n",
        "4. Create a stem-and-leaf plot\n",
        "\n",
        "Let's start with importing the necessary libraries."
      ]
    },
    {
      "cell_type": "code",
      "metadata": {
        "id": "nzeHLt3ITSLg"
      },
      "execution_count": null,
      "outputs": [],
      "source": [
        "# Import required libraries\n",
        "import pandas as pd\n",
        "import matplotlib.pyplot as plt"
      ]
    },
    {
      "cell_type": "markdown",
      "metadata": {
        "id": "Vz35HMPMTSLh"
      },
      "source": [
        "## 1. Frequency Table\n",
        "\n",
        "A **frequency table** organizes data into intervals (bins) and shows how many values fall into each interval.\n",
        "\n",
        "For exam scores, we'll use grade ranges:\n",
        "- 40-50: F grade\n",
        "- 50-60: D grade\n",
        "- 60-70: C grade\n",
        "- 70-80: B grade\n",
        "- 80-90: A grade\n",
        "- 90-100: A+ grade"
      ]
    },
    {
      "cell_type": "code",
      "metadata": {
        "id": "TTlsXqbqTSLh",
        "colab": {
          "base_uri": "https://localhost:8080/"
        },
        "outputId": "9e8ba4e8-9022-43aa-d4ad-0d7cd4328d18"
      },
      "execution_count": null,
      "outputs": [
        {
          "output_type": "stream",
          "name": "stdout",
          "text": [
            "         Interval  Frequency  Relative Frequency  Cumulative Frequency\n",
            "0  (39.999, 50.0]          1                0.05                     1\n",
            "1    (50.0, 60.0]          3                0.15                     4\n",
            "2    (60.0, 70.0]          5                0.25                     9\n",
            "3    (70.0, 80.0]          5                0.25                    14\n",
            "4    (80.0, 90.0]          5                0.25                    19\n",
            "5   (90.0, 100.0]          1                0.05                    20\n"
          ]
        }
      ],
      "source": [
        "def draw_numeric_frequency_table(data, bins):\n",
        "    # Create a pandas Series from the data\n",
        "    data_series = pd.Series(data)\n",
        "\n",
        "    # Bin the data into intervals\n",
        "    intervals = pd.cut(data_series, bins=bins, right=True, include_lowest=True)\n",
        "\n",
        "    # Frequency count\n",
        "    frequency = intervals.value_counts(sort=False)\n",
        "\n",
        "    # Create the frequency table DataFrame\n",
        "    freq_table = pd.DataFrame({\n",
        "        'Interval': frequency.index.astype(str),\n",
        "        'Frequency': frequency.values\n",
        "    })\n",
        "\n",
        "    # Add relative and cumulative frequencies\n",
        "    freq_table['Relative Frequency'] = freq_table['Frequency'] / freq_table['Frequency'].sum()\n",
        "    freq_table['Cumulative Frequency'] = freq_table['Frequency'].cumsum()\n",
        "\n",
        "    return freq_table\n",
        "\n",
        "# Example data - exam scores\n",
        "scores = [55, 67, 45, 89, 70, 90, 77, 85, 69, 72, 91, 83, 65, 74, 58, 60, 79, 68, 73, 81]\n",
        "\n",
        "# Define bins (e.g., intervals of 10 points)\n",
        "bins = [40, 50, 60, 70, 80, 90, 100]\n",
        "\n",
        "# Generate and print the frequency table\n",
        "freq_table = draw_numeric_frequency_table(scores, bins)\n",
        "print(freq_table)"
      ]
    },
    {
      "cell_type": "markdown",
      "metadata": {
        "id": "J8lIglBBTSLh"
      },
      "source": [
        "### 📝 TO DO #1: Change the Data\n",
        "\n",
        "Try modifying the scores list above with your own data and run the cell again to see how the frequency table changes!\n",
        "\n",
        "For example, you could:\n",
        "- Add more scores in the 90-100 range\n",
        "- Remove some scores from the middle range\n",
        "- Try a completely different set of 20 scores"
      ]
    },
    {
      "cell_type": "markdown",
      "metadata": {
        "id": "NN6cdPwkTSLi"
      },
      "source": [
        "## 2. Pie Chart\n",
        "\n",
        "A **pie chart** shows each category as a slice of a circle. The size of each slice represents the proportion of that category in the whole dataset.\n",
        "\n",
        "**When to use:** When you want to show parts of a whole as percentages."
      ]
    },
    {
      "cell_type": "code",
      "metadata": {
        "id": "S8Y5DjBATSLi"
      },
      "execution_count": null,
      "outputs": [],
      "source": [
        "def plot_pie_chart(freq_table):\n",
        "    plt.figure(figsize=(6,6))\n",
        "    plt.pie(freq_table['Frequency'], labels=freq_table['Interval'], autopct='%1.1f%%')\n",
        "    plt.title('Pie Chart of Frequencies')\n",
        "    plt.show()\n",
        "\n",
        "plot_pie_chart(freq_table)"
      ]
    },
    {
      "cell_type": "markdown",
      "metadata": {
        "id": "YCs_vT5jTSLi"
      },
      "source": [
        "### 📝 TO DO #2: Customize the Pie Chart\n",
        "\n",
        "Try changing the pie chart by modifying the bins in the frequency table:\n",
        "- Change `bins = [40, 50, 60, 70, 80, 90, 100]` to `bins = [40, 60, 80, 100]` for larger intervals\n",
        "- Or try `bins = [40, 55, 70, 85, 100]` for unequal intervals\n",
        "\n",
        "Go back to the frequency table cell, change the bins, run it, then run the pie chart cell again!"
      ]
    },
    {
      "cell_type": "markdown",
      "metadata": {
        "id": "D2MPMwMoTSLj"
      },
      "source": [
        "## 3. Histogram\n",
        "\n",
        "A **histogram** is like a bar chart for numerical data. It shows the distribution of data by grouping values into bins.\n",
        "\n",
        "**Key difference from bar chart:** The bars touch each other because the data is continuous.\n",
        "\n",
        "**What to look for:**\n",
        "- Shape of distribution (symmetric, skewed left, skewed right)\n",
        "- Where most data is concentrated\n",
        "- Any gaps or outliers"
      ]
    },
    {
      "cell_type": "code",
      "metadata": {
        "id": "aipNoQunTSLj"
      },
      "execution_count": null,
      "outputs": [],
      "source": [
        "def plot_histogram(data, bins):\n",
        "    plt.figure(figsize=(8, 5))\n",
        "    plt.hist(data, bins=bins, edgecolor='black')\n",
        "    plt.title('Histogram of Scores')\n",
        "    plt.xlabel('Score Range')\n",
        "    plt.ylabel('Frequency')\n",
        "    plt.grid(axis='y')\n",
        "    plt.show()\n",
        "\n",
        "plot_histogram(scores, bins)"
      ]
    },
    {
      "cell_type": "markdown",
      "metadata": {
        "id": "VZwVIynQTSLj"
      },
      "source": [
        "### 📝 TO DO #3: Experiment with Bin Sizes\n",
        "\n",
        "\n",
        "\n",
        "\n",
        "\n",
        "The number of bins affects how we see the distribution. Try different numbers:\n",
        "\n",
        "Run each line below one at a time to see the difference:"
      ]
    },
    {
      "cell_type": "code",
      "metadata": {
        "id": "FC8R3_QjTSLj"
      },
      "execution_count": null,
      "outputs": [],
      "source": [
        "# TO DO: Uncomment one line at a time and run to see different histograms\n",
        "\n",
        "# plot_histogram(scores, 5)   # 5 bins - less detail\n",
        "# plot_histogram(scores, 10)  # 10 bins - medium detail\n",
        "# plot_histogram(scores, 20)  # 20 bins - more detail (maybe too much!)"
      ]
    },
    {
      "cell_type": "markdown",
      "source": [
        "# Sturges's Rule and Methods for Selecting Number of Bins\n",
        "\n",
        "## What is Sturges's Rule?\n",
        "\n",
        "**Sturges's Rule** is a simple method for determining the optimal number of bins (classes) when creating histograms. It was proposed by [Herbert Sturges](https://en.wikipedia.org/wiki/Sturges%27s_rule) in 1926 and provides a quick way to choose an appropriate number of bins based on your sample size.\n",
        "\n",
        "### The Formula\n",
        "\n",
        "$$k = 1 + \\log_2(n)$$\n",
        "\n",
        "Where:\n",
        "- **k** = number of bins\n",
        "- **n** = number of observations in your dataset\n",
        "- **$\\log_{2}$** = logarithm base 2\n",
        "\n",
        "### Why Use Sturges's Rule?\n",
        "\n",
        "- **Simple to calculate**: Only requires knowing your sample size\n",
        "- **Widely accepted**: Standard method taught in many statistics courses\n",
        "- **Good starting point**: Provides reasonable results for normally distributed data\n",
        "- **Prevents over-binning**: Avoids creating too many bins with few observations\n",
        "\n",
        "## Comprehensive Table of Bin Numbers\n",
        "\n",
        "| Sample Size (n) | k = 1 + log₂(n) | Rounded Bins | Calculation |\n",
        "|-----------------|-----------------|--------------|-------------|\n",
        "| 10 | 1 + 3.32 | **4** | 1 + log₂(10) = 4.32 |\n",
        "| 20 | 1 + 4.32 | **5** | 1 + log₂(20) = 5.32 |\n",
        "| 30 | 1 + 4.91 | **6** | 1 + log₂(30) = 5.91 |\n",
        "| 50 | 1 + 5.64 | **7** | 1 + log₂(50) = 6.64 |\n",
        "| 100 | 1 + 6.64 | **8** | 1 + log₂(100) = 7.64 |\n",
        "| 200 | 1 + 7.64 | **8** | 1 + log₂(200) = 8.64 |\n",
        "| 500 | 1 + 8.97 | **9** | 1 + log₂(500) = 9.97 |\n",
        "| 1,000 | 1 + 9.97 | **11** | 1 + log₂(1000) = 10.97 |\n",
        "| 2,000 | 1 + 10.97 | **12** | 1 + log₂(2000) = 11.97 |\n",
        "| 5,000 | 1 + 12.29 | **13** | 1 + log₂(5000) = 13.29 |\n",
        "| 10,000 | 1 + 13.29 | **14** | 1 + log₂(10000) = 14.29 |\n",
        "\n",
        "## Alternative Methods for Bin Selection\n",
        "\n",
        "While Sturges's Rule is popular, several other methods can provide better results depending on your data characteristics:\n",
        "\n",
        "### I. **Square Root Rule**\n",
        "\n",
        "$$k = \\sqrt{n}$$\n",
        "\n",
        "- **When to use**: Simple alternative to Sturges's Rule\n",
        "- **Best for**: Small to medium datasets\n",
        "- **Example**: For n=100, k = √100 = 10 bins\n",
        "\n",
        "### II. **Rice Rule**\n",
        "\n",
        "$$k = 2 \\times \\sqrt[3]{n}$$\n",
        "\n",
        "- **When to use**: When you want slightly more bins than Sturges's Rule\n",
        "- **Best for**: Medium-sized datasets\n",
        "- **Example**: For n=1000, k = 2 × ∛1000 = 2 × 10 = 20 bins\n",
        "\n",
        "### III. **Scott's Rule (Scott's Normal Reference)**\n",
        "\n",
        "$$\\text{bin_width} = 3.49 \\times σ \\times n^{\\left(\\frac{-1}{3}\\right)}$$\n",
        "$$k = \\frac{(max - min)} { \\text{bin_width} }$$\n",
        "\n",
        "- **When to use**: When your data is approximately normally distributed\n",
        "- **Best for**: Continuous data with known distribution\n",
        "- **Requires**: Standard deviation (σ) of your data"
      ],
      "metadata": {
        "id": "dZF0xCp9bwzU"
      }
    },
    {
      "cell_type": "markdown",
      "metadata": {
        "id": "O7Mc_HgyTSLj"
      },
      "source": [
        "## 4. Stem-and-Leaf Plot\n",
        "\n",
        "A **stem-and-leaf plot** is a way to display data that preserves the actual values while showing the distribution.\n",
        "\n",
        "**How it works:**\n",
        "- The \"stem\" is the tens digit (4, 5, 6, 7, 8, 9)\n",
        "- The \"leaf\" is the ones digit (0-9)\n",
        "- Example: 73 has stem=7 and leaf=3\n",
        "\n",
        "**Advantage:** You can reconstruct the original data from the plot!"
      ]
    },
    {
      "cell_type": "code",
      "metadata": {
        "id": "9KmTYFqoTSLj"
      },
      "execution_count": null,
      "outputs": [],
      "source": [
        "def stem_and_leaf_plot(data):\n",
        "    # Sort the data\n",
        "    data = sorted(data)\n",
        "    stem_leaf = {}\n",
        "\n",
        "    for number in data:\n",
        "        stem = number // 10  # Get tens digit\n",
        "        leaf = number % 10   # Get ones digit\n",
        "        if stem in stem_leaf:\n",
        "            stem_leaf[stem].append(leaf)\n",
        "        else:\n",
        "            stem_leaf[stem] = [leaf]\n",
        "\n",
        "    # Print the plot\n",
        "    print(\"Stem | Leaves\")\n",
        "    print(\"------------\")\n",
        "    for stem, leaves in sorted(stem_leaf.items()):\n",
        "        leaf_str = ' '.join(str(leaf) for leaf in sorted(leaves))\n",
        "        print(f\" {stem:>2}  | {leaf_str}\")\n",
        "\n",
        "# Example usage\n",
        "scores = [55, 67, 45, 89, 70, 90, 77, 85, 69, 72,\n",
        "          91, 83, 65, 74, 58, 60, 79, 68, 73, 81]\n",
        "\n",
        "stem_and_leaf_plot(scores)"
      ]
    },
    {
      "cell_type": "markdown",
      "metadata": {
        "id": "ZNqtLGqHTSLj"
      },
      "source": [
        "### Understanding the Stem-and-Leaf Plot\n",
        "\n",
        "From the plot above:\n",
        "- Stem 4 | Leaf 5 means score 45\n",
        "- Stem 6 | Leaves 0 5 7 8 9 means scores 60, 65, 67, 68, 69\n",
        "- Stem 7 | Leaves 0 2 3 4 7 9 means scores 70, 72, 73, 74, 77, 79\n",
        "\n",
        "Can you reconstruct all 20 original scores from the plot?"
      ]
    },
    {
      "cell_type": "markdown",
      "metadata": {
        "id": "P4fiiHBsTSLj"
      },
      "source": [
        "### 📝 TO DO #4: Create Your Own Dataset\n",
        "\n",
        "Create a stem-and-leaf plot for a different dataset. For example:\n",
        "- Ages of 15 people in your family\n",
        "- Daily temperatures for a month\n",
        "- Test scores from another class\n",
        "\n",
        "Replace the scores list below with your data:"
      ]
    },
    {
      "cell_type": "code",
      "metadata": {
        "id": "qsIR-N4KTSLk"
      },
      "execution_count": null,
      "outputs": [],
      "source": [
        "# TO DO: Replace this with your own data\n",
        "my_data = [23, 45, 67, 34, 56, 78, 89, 12, 45, 67, 54, 32, 21, 43, 65]\n",
        "\n",
        "print(\"My Custom Stem-and-Leaf Plot:\")\n",
        "stem_and_leaf_plot(my_data)"
      ]
    },
    {
      "cell_type": "markdown",
      "metadata": {
        "id": "hHUcomzVTSLk"
      },
      "source": [
        "## Summary\n",
        "\n",
        "### Key Concepts:\n",
        "\n",
        "1. **Frequency Table**: Groups data into intervals and counts occurrences\n",
        "2. **Pie Chart**: Shows proportions as slices of a circle\n",
        "3. **Histogram**: Displays distribution of continuous numerical data\n",
        "4. **Stem-and-Leaf Plot**: Preserves individual values while showing distribution\n",
        "\n",
        "### When to Use Each:\n",
        "\n",
        "- **Frequency Table**: When you need exact counts and cumulative frequencies\n",
        "- **Pie Chart**: When showing parts of a whole (percentages)\n",
        "- **Histogram**: When analyzing the shape of a distribution\n",
        "- **Stem-and-Leaf**: When you have small datasets and want to preserve values\n",
        "\n",
        "### Practice Questions:\n",
        "\n",
        "1. Which visualization best shows if the exam scores are normally distributed?\n",
        "2. From the stem-and-leaf plot, what is the median score?\n",
        "3. What percentage of students scored 70 or above?\n",
        "4. If you had 1000 scores instead of 20, which visualization would be least useful?"
      ]
    }
  ]
}