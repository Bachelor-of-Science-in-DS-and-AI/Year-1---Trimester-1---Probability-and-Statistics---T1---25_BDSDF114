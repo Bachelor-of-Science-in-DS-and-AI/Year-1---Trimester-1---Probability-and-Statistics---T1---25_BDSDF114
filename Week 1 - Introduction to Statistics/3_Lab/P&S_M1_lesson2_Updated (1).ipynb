{
  "nbformat": 4,
  "nbformat_minor": 0,
  "metadata": {
    "colab": {
      "provenance": []
    },
    "kernelspec": {
      "name": "python3",
      "display_name": "Python 3"
    },
    "language_info": {
      "name": "python"
    }
  },
  "cells": [
    {
      "cell_type": "markdown",
      "metadata": {
        "id": "I6l0a-bVURk6"
      },
      "source": [
        "# P&S Module 1 - Lesson 2: Scatter Plots\n",
        "\n",
        "**Week 1 - Lesson 2 - Video 8**\n",
        "\n",
        "In this part, we will be plotting scatter plots for quantitative variables.\n",
        "\n",
        "---"
      ]
    },
    {
      "cell_type": "markdown",
      "metadata": {
        "id": "fQBUq2GZURk8"
      },
      "source": [
        "## Scatter Plot\n",
        "\n",
        "A **scatter plot** is used to display the relationship between two numerical variables. Each point on the graph represents one observation.\n",
        "\n",
        "**What to look for in a scatter plot:**\n",
        "- **Direction**: Positive (upward trend) or Negative (downward trend)\n",
        "- **Strength**: How closely do points follow a pattern?\n",
        "- **Form**: Linear (straight line) or Non-linear (curved)\n",
        "\n",
        "**Common relationships:**\n",
        "- Study hours vs Exam scores (positive)\n",
        "- Price vs Demand (negative)\n",
        "- Height vs Weight (positive)\n",
        "- Age vs Reaction time (non-linear)"
      ]
    },
    {
      "cell_type": "markdown",
      "metadata": {
        "id": "VSQwjridURk8"
      },
      "source": [
        "## Problem Statement\n",
        "\n",
        "Draw a scatter diagram for the given data:\n",
        "\n",
        "**x = [10, 15, 20, 25, 30, 35, 40]**\n",
        "\n",
        "**y = [8, 18, 10, 25, 22, 30, 28]**"
      ]
    },
    {
      "cell_type": "code",
      "metadata": {
        "id": "nvXIRERaURk8"
      },
      "execution_count": null,
      "outputs": [],
      "source": [
        "import matplotlib.pyplot as plt\n",
        "\n",
        "# Example data\n",
        "x = [10, 15, 20, 25, 30, 35, 40]\n",
        "y = [8, 18, 10, 25, 22, 30, 28]\n",
        "\n",
        "# Create scatter plot\n",
        "plt.figure(figsize=(7, 5))\n",
        "plt.scatter(x, y, color='blue', marker='o')\n",
        "\n",
        "# Add labels and title\n",
        "plt.title('Scatter Plot Example')\n",
        "plt.xlabel('X-axis (e.g., Study Hours)')\n",
        "plt.ylabel('Y-axis (e.g., Exam Scores)')\n",
        "\n",
        "# Show grid and plot\n",
        "plt.grid(True)\n",
        "plt.show()"
      ]
    },
    {
      "cell_type": "markdown",
      "metadata": {
        "id": "Mo-nhzy2URk9"
      },
      "source": [
        "### Understanding the Plot\n",
        "\n",
        "Each point (x, y) represents one observation:\n",
        "- Point (10, 8): When x=10, y=8\n",
        "- Point (15, 18): When x=15, y=18\n",
        "- And so on...\n",
        "\n",
        "Looking at the overall pattern, we can see if there's a relationship between x and y."
      ]
    },
    {
      "cell_type": "markdown",
      "metadata": {
        "id": "2ghPYBO2URk9"
      },
      "source": [
        "### 📝 TO DO #1: Change the Data\n",
        "\n",
        "Try creating scatter plots with different relationships. Uncomment one dataset at a time:"
      ]
    },
    {
      "cell_type": "code",
      "metadata": {
        "id": "0_db8ZvJURk-"
      },
      "execution_count": null,
      "outputs": [],
      "source": [
        "# TO DO: Uncomment one dataset at a time and run the cell\n",
        "\n",
        "# 1. Strong positive relationship (as one increases, other increases)\n",
        "x = [1, 2, 3, 4, 5, 6, 7, 8, 9, 10]\n",
        "y = [2, 4, 6, 8, 10, 12, 14, 16, 18, 20]\n",
        "\n",
        "# 2. Strong negative relationship (as one increases, other decreases)\n",
        "# x = [1, 2, 3, 4, 5, 6, 7, 8, 9, 10]\n",
        "# y = [20, 18, 16, 14, 12, 10, 8, 6, 4, 2]\n",
        "\n",
        "# 3. No relationship (random scatter)\n",
        "# x = [1, 2, 3, 4, 5, 6, 7, 8, 9, 10]\n",
        "# y = [5, 12, 3, 18, 7, 9, 15, 2, 11, 6]\n",
        "\n",
        "# 4. Non-linear relationship (quadratic)\n",
        "# x = [1, 2, 3, 4, 5, 6, 7, 8, 9, 10]\n",
        "# y = [1, 4, 9, 16, 25, 36, 49, 64, 81, 100]  # y = x²\n",
        "\n",
        "plt.figure(figsize=(7, 5))\n",
        "plt.scatter(x, y, color='red', marker='o', s=50)\n",
        "plt.title('Scatter Plot - Different Relationships')\n",
        "plt.xlabel('X values')\n",
        "plt.ylabel('Y values')\n",
        "plt.grid(True)\n",
        "plt.show()\n",
        "\n",
        "print(\"What type of relationship do you see?\")\n",
        "print(\"Is it positive, negative, or no relationship?\")\n",
        "print(\"Is it linear or curved?\")"
      ]
    },
    {
      "cell_type": "markdown",
      "metadata": {
        "id": "uvFEXcqLURk-"
      },
      "source": [
        "### Adding a Trend Line\n",
        "\n",
        "A **trend line** (or line of best fit) helps us see the general pattern in the data. It's especially useful for linear relationships."
      ]
    },
    {
      "cell_type": "code",
      "metadata": {
        "id": "ZhA255kWURk-"
      },
      "execution_count": null,
      "outputs": [],
      "source": [
        "import numpy as np\n",
        "\n",
        "# Original data\n",
        "x = [10, 15, 20, 25, 30, 35, 40]\n",
        "y = [8, 18, 10, 25, 22, 30, 28]\n",
        "\n",
        "# Calculate trend line\n",
        "z = np.polyfit(x, y, 1)  # 1 means linear (degree 1 polynomial)\n",
        "p = np.poly1d(z)\n",
        "\n",
        "# Create the plot\n",
        "plt.figure(figsize=(8, 6))\n",
        "plt.scatter(x, y, color='blue', marker='o', s=100, label='Data points')\n",
        "plt.plot(x, p(x), 'r--', label=f'Trend line: y = {z[0]:.2f}x + {z[1]:.2f}')\n",
        "\n",
        "plt.title('Scatter Plot with Trend Line')\n",
        "plt.xlabel('X-axis')\n",
        "plt.ylabel('Y-axis')\n",
        "plt.legend()\n",
        "plt.grid(True)\n",
        "plt.show()\n",
        "\n",
        "print(f\"Trend line equation: y = {z[0]:.2f}x + {z[1]:.2f}\")\n",
        "print(f\"This means: For every 1 unit increase in x, y increases by {z[0]:.2f} units\")"
      ]
    },
    {
      "cell_type": "markdown",
      "metadata": {
        "id": "1O0CzOOGURk-"
      },
      "source": [
        "### 📝 TO DO #2: Customize the Scatter Plot\n",
        "\n",
        "Change different properties of the scatter plot to see their effects:"
      ]
    },
    {
      "cell_type": "code",
      "metadata": {
        "id": "f6CcpyYnURk_"
      },
      "execution_count": null,
      "outputs": [],
      "source": [
        "x = [10, 15, 20, 25, 30, 35, 40]\n",
        "y = [8, 18, 10, 25, 22, 30, 28]\n",
        "\n",
        "plt.figure(figsize=(8, 6))\n",
        "\n",
        "# TO DO: Try changing these parameters:\n",
        "# marker: 'o', 's', '^', 'D', '*', '+', 'x'\n",
        "# color: 'blue', 'red', 'green', 'purple', 'orange'\n",
        "# s (size): 50, 100, 200, 300\n",
        "\n",
        "plt.scatter(x, y,\n",
        "           color='green',    # TO DO: Change color\n",
        "           marker='s',       # TO DO: Change marker shape (s=square)\n",
        "           s=150,           # TO DO: Change size\n",
        "           alpha=0.6,       # TO DO: Change transparency (0=transparent, 1=solid)\n",
        "           edgecolor='black', # TO DO: Change edge color\n",
        "           linewidth=2)     # TO DO: Change edge width\n",
        "\n",
        "plt.title('Customized Scatter Plot')\n",
        "plt.xlabel('X-axis')\n",
        "plt.ylabel('Y-axis')\n",
        "plt.grid(True, alpha=0.3)\n",
        "plt.show()"
      ]
    },
    {
      "cell_type": "markdown",
      "metadata": {
        "id": "xQylZPLpURk_"
      },
      "source": [
        "### Correlation Coefficient\n",
        "\n",
        "The **correlation coefficient (r)** measures the strength and direction of a linear relationship:\n",
        "- **r = +1**: Perfect positive correlation\n",
        "- **r = 0**: No linear correlation\n",
        "- **r = -1**: Perfect negative correlation\n",
        "\n",
        "**Interpretation:**\n",
        "- |r| > 0.7: Strong relationship\n",
        "- 0.4 < |r| < 0.7: Moderate relationship\n",
        "- |r| < 0.4: Weak relationship"
      ]
    },
    {
      "cell_type": "code",
      "metadata": {
        "id": "v4N6idWKURk_"
      },
      "execution_count": null,
      "outputs": [],
      "source": [
        "from scipy import stats\n",
        "\n",
        "# Calculate correlation coefficient\n",
        "x = np.array([10, 15, 20, 25, 30, 35, 40])\n",
        "y = np.array([8, 18, 10, 25, 22, 30, 28])\n",
        "\n",
        "correlation, p_value = stats.pearsonr(x, y)\n",
        "\n",
        "print(f\"Correlation coefficient (r): {correlation:.3f}\")\n",
        "\n",
        "# Interpret the correlation\n",
        "if abs(correlation) > 0.7:\n",
        "    strength = \"Strong\"\n",
        "elif abs(correlation) > 0.4:\n",
        "    strength = \"Moderate\"\n",
        "else:\n",
        "    strength = \"Weak\"\n",
        "\n",
        "if correlation > 0:\n",
        "    direction = \"positive\"\n",
        "elif correlation < 0:\n",
        "    direction = \"negative\"\n",
        "else:\n",
        "    direction = \"no\"\n",
        "\n",
        "print(f\"Interpretation: {strength} {direction} relationship\")\n",
        "print(f\"\\nNote: Correlation does NOT imply causation!\")"
      ]
    },
    {
      "cell_type": "markdown",
      "metadata": {
        "id": "MvVA5xqCURk_"
      },
      "source": [
        "### 📝 TO DO #3: Real-World Example\n",
        "\n",
        "Create a scatter plot for a real-world scenario. Choose one example below or create your own:"
      ]
    },
    {
      "cell_type": "code",
      "metadata": {
        "id": "EEl5xijbURk_"
      },
      "execution_count": null,
      "outputs": [],
      "source": [
        "# TO DO: Choose one example or create your own\n",
        "\n",
        "# Example 1: Study Hours vs Test Scores\n",
        "study_hours = [1, 2, 3, 4, 5, 6, 7, 8]\n",
        "test_scores = [55, 60, 65, 70, 75, 85, 88, 92]\n",
        "x_label = \"Study Hours per Week\"\n",
        "y_label = \"Test Score (%)\"\n",
        "title = \"Study Time vs Test Performance\"\n",
        "\n",
        "# Example 2: Temperature vs Ice Cream Sales\n",
        "# temperature = [15, 18, 20, 22, 25, 28, 30, 32]\n",
        "# ice_cream_sales = [20, 25, 30, 35, 45, 60, 75, 85]\n",
        "# x_label = \"Temperature (°C)\"\n",
        "# y_label = \"Ice Cream Sales (units)\"\n",
        "# title = \"Temperature vs Ice Cream Sales\"\n",
        "\n",
        "# Example 3: Your own data\n",
        "# x_data = [...]  # TO DO: Add your x values\n",
        "# y_data = [...]  # TO DO: Add your y values\n",
        "# x_label = \"Your X Variable\"\n",
        "# y_label = \"Your Y Variable\"\n",
        "# title = \"Your Title\"\n",
        "\n",
        "# Create the scatter plot\n",
        "plt.figure(figsize=(8, 6))\n",
        "plt.scatter(study_hours, test_scores, color='purple', s=100)\n",
        "\n",
        "# Add trend line\n",
        "z = np.polyfit(study_hours, test_scores, 1)\n",
        "p = np.poly1d(z)\n",
        "plt.plot(study_hours, p(study_hours), 'r--', alpha=0.8)\n",
        "\n",
        "# Labels and title\n",
        "plt.title(title)\n",
        "plt.xlabel(x_label)\n",
        "plt.ylabel(y_label)\n",
        "plt.grid(True, alpha=0.3)\n",
        "plt.show()\n",
        "\n",
        "# Calculate and show correlation\n",
        "r, _ = stats.pearsonr(study_hours, test_scores)\n",
        "print(f\"Correlation: r = {r:.3f}\")\n",
        "print(f\"Trend line: {y_label} = {z[0]:.2f} × {x_label} + {z[1]:.2f}\")"
      ]
    },
    {
      "cell_type": "markdown",
      "metadata": {
        "id": "eHydFx4JURk_"
      },
      "source": [
        "### 📝 TO DO #4: Multiple Groups in One Plot\n",
        "\n",
        "Sometimes we want to compare different groups on the same scatter plot:"
      ]
    },
    {
      "cell_type": "code",
      "metadata": {
        "id": "P3B-9n-8URk_"
      },
      "execution_count": null,
      "outputs": [],
      "source": [
        "# Data for two different classes\n",
        "# Class A - Regular study pattern\n",
        "hours_A = [1, 2, 3, 4, 5, 6, 7, 8]\n",
        "scores_A = [50, 55, 60, 65, 70, 75, 80, 85]\n",
        "\n",
        "# Class B - Irregular study pattern\n",
        "hours_B = [1, 2, 3, 4, 5, 6, 7, 8]\n",
        "scores_B = [45, 52, 58, 68, 72, 78, 82, 88]\n",
        "\n",
        "# TO DO: Try adding a third class\n",
        "# hours_C = [1, 2, 3, 4, 5, 6, 7, 8]\n",
        "# scores_C = [40, 48, 56, 64, 72, 80, 88, 96]  # Steeper improvement\n",
        "\n",
        "plt.figure(figsize=(10, 6))\n",
        "\n",
        "# Plot each class with different colors\n",
        "plt.scatter(hours_A, scores_A, color='blue', label='Class A', s=100, alpha=0.7)\n",
        "plt.scatter(hours_B, scores_B, color='red', label='Class B', s=100, alpha=0.7)\n",
        "# plt.scatter(hours_C, scores_C, color='green', label='Class C', s=100, alpha=0.7)\n",
        "\n",
        "plt.title('Study Hours vs Test Scores - Multiple Classes')\n",
        "plt.xlabel('Study Hours per Week')\n",
        "plt.ylabel('Test Score (%)')\n",
        "plt.legend()\n",
        "plt.grid(True, alpha=0.3)\n",
        "plt.show()\n",
        "\n",
        "# Compare correlations\n",
        "r_A, _ = stats.pearsonr(hours_A, scores_A)\n",
        "r_B, _ = stats.pearsonr(hours_B, scores_B)\n",
        "\n",
        "print(f\"Class A correlation: r = {r_A:.3f}\")\n",
        "print(f\"Class B correlation: r = {r_B:.3f}\")\n",
        "# print(f\"Class C correlation: r = {r_C:.3f}\")"
      ]
    },
    {
      "cell_type": "markdown",
      "metadata": {
        "id": "jzDSg71dURlA"
      },
      "source": [
        "## Summary\n",
        "\n",
        "### Key Concepts:\n",
        "\n",
        "1. **Scatter plots** show relationships between two numerical variables\n",
        "2. **Each point** represents one observation (x, y pair)\n",
        "3. **Patterns** can be positive, negative, or no relationship\n",
        "4. **Trend lines** help visualize the general pattern\n",
        "5. **Correlation coefficient (r)** measures strength of linear relationship\n",
        "\n",
        "### Important to Remember:\n",
        "\n",
        "- **Correlation ≠ Causation**: Just because two things are related doesn't mean one causes the other\n",
        "- **Outliers** can strongly affect correlation\n",
        "- **Non-linear relationships** might have low correlation even if there's a strong pattern\n",
        "\n",
        "### Practice Questions:\n",
        "\n",
        "1. If height and weight have r = 0.8, what does this mean?\n",
        "2. Can you have a strong relationship with r = 0?\n",
        "3. What would a scatter plot look like if r = -1?\n",
        "4. Give an example of correlation without causation."
      ]
    },
    {
      "cell_type": "markdown",
      "metadata": {
        "id": "QvJ2Z2K8URlA"
      },
      "source": [
        "### Extra: Using Plotly for Interactive Plots\n",
        "\n",
        "Plotly creates interactive plots where you can hover over points to see their values:"
      ]
    },
    {
      "cell_type": "code",
      "metadata": {
        "id": "EOpuvBX8URlA"
      },
      "execution_count": null,
      "outputs": [],
      "source": [
        "# Optional: Interactive plot with Plotly\n",
        "# Uncomment to use if Plotly is installed\n",
        "\n",
        "# import plotly.express as px\n",
        "# import pandas as pd\n",
        "\n",
        "# df = pd.DataFrame({\n",
        "#     'Study Hours': [1, 2, 3, 4, 5, 6, 7, 8],\n",
        "#     'Test Score': [55, 60, 65, 70, 75, 85, 88, 92]\n",
        "# })\n",
        "\n",
        "# fig = px.scatter(df, x='Study Hours', y='Test Score',\n",
        "#                  title='Interactive Scatter Plot',\n",
        "#                  trendline='ols')  # Add trend line\n",
        "# fig.show()"
      ]
    }
  ]
}