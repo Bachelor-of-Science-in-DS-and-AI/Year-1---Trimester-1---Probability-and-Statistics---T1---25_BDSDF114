{
  "nbformat": 4,
  "nbformat_minor": 0,
  "metadata": {
    "colab": {
      "provenance": []
    },
    "kernelspec": {
      "name": "python3",
      "display_name": "Python 3"
    },
    "language_info": {
      "name": "python"
    }
  },
  "cells": [
    {
      "cell_type": "markdown",
      "metadata": {
        "id": "ja9RWNZQSPzS"
      },
      "source": [
        "# P&S Module 1: Measures of Central Tendency & Variability\n",
        "\n",
        "**Week 1:**\n",
        "- Lesson 1: Video 4 - Mean, Median, Mode\n",
        "- Lesson 2: Video 5 - Standard Deviation and Variance\n",
        "\n",
        "**Week 2:**\n",
        "- Lesson 1: Videos 1-4 - Quartiles, Box Plots, and Outlier Detection\n",
        "\n",
        "---"
      ]
    },
    {
      "cell_type": "markdown",
      "metadata": {
        "id": "Xh1YGFJLSPzU"
      },
      "source": [
        "## Part A: Measures of Central Tendency & Variability\n",
        "\n",
        "### Problem Statement\n",
        "\n",
        "Find the mean, median, mode, standard deviation and variance for the given data:\n",
        "\n",
        "**(i) Dataset 1:** 13, 15, 14, 10, 18, 16, 17, 14, 13, 19, 11, 12, 14, 13, 18, 16, 15, 17, 11, 12\n",
        "\n",
        "**(ii) Dataset 2:** 19, 11, 28, 10, 13, 22, 20, 21, 25, 30, 26, 15, 23, 14, 16, 29, 24, 18, 12, 17"
      ]
    },
    {
      "cell_type": "code",
      "metadata": {
        "id": "zOSa8qzYSPzU"
      },
      "execution_count": null,
      "outputs": [],
      "source": [
        "import statistics as stats\n",
        "import random\n",
        "from collections import Counter"
      ]
    },
    {
      "cell_type": "markdown",
      "metadata": {
        "id": "onzaveYaSPzV"
      },
      "source": [
        "### Understanding the Measures:\n",
        "\n",
        "**Central Tendency** - Where is the \"center\" of our data?\n",
        "- **Mean**: The average value (sum ÷ count)\n",
        "- **Median**: The middle value when data is sorted\n",
        "- **Mode**: The most frequent value\n",
        "\n",
        "**Variability** - How spread out is our data?\n",
        "- **Variance**: Average of squared differences from mean\n",
        "- **Standard Deviation**: Square root of variance (same units as data)"
      ]
    },
    {
      "cell_type": "code",
      "metadata": {
        "id": "jyvNN0-GSPzV"
      },
      "execution_count": null,
      "outputs": [],
      "source": [
        "# Option 1: Use your own 20 data points\n",
        "data = [13, 15, 14, 10, 18, 16, 17, 14, 13, 19, 11, 12, 14, 13, 18, 16, 15, 17, 11, 12]\n",
        "#data = [19, 11, 28, 10, 13, 22, 20, 21, 25, 30, 26, 15, 23, 14, 16, 29, 24, 18, 12, 17]\n",
        "\n",
        "print(\"Data:\", data)\n",
        "\n",
        "# Calculations\n",
        "mean = stats.mean(data)\n",
        "median = stats.median(data)\n",
        "\n",
        "frequency = Counter(data)\n",
        "max_freq = max(frequency.values())\n",
        "\n",
        "# Find all numbers that appear max_freq times\n",
        "modes = [key for key, val in frequency.items() if val == max_freq]\n",
        "\n",
        "# If all values occur only once (no repeating value)\n",
        "if len(modes) == len(data):\n",
        "    print(\"No mode found: all values occur only once.\")\n",
        "else:\n",
        "    print(f\"Mode(s): {modes}\")\n",
        "\n",
        "variance = stats.variance(data)  # Sample variance\n",
        "std_dev = stats.stdev(data)      # Sample standard deviation\n",
        "\n",
        "# Output\n",
        "print(f\"Mean: {mean}\")\n",
        "print(f\"Median: {median}\")\n",
        "print(f\"Variance: {variance}\")\n",
        "print(f\"Standard Deviation: {std_dev}\")"
      ]
    },
    {
      "cell_type": "markdown",
      "metadata": {
        "id": "-0kPQ9HESPzW"
      },
      "source": [
        "### 📝 TO DO #1: Compare Two Datasets\n",
        "\n",
        "1. Run the cell above with Dataset 1 (already set)\n",
        "2. Comment out Dataset 1 and uncomment Dataset 2\n",
        "3. Run again and compare the results\n",
        "\n",
        "**Questions to think about:**\n",
        "- Which dataset has a higher mean?\n",
        "- Which dataset has more variability (higher standard deviation)?\n",
        "- Why might the mode be different?"
      ]
    },
    {
      "cell_type": "markdown",
      "metadata": {
        "id": "wPGalrZwSPzW"
      },
      "source": [
        "### 📝 TO DO #2: Generate Random Data\n",
        "\n",
        "Let's see how statistics change with different random datasets:"
      ]
    },
    {
      "cell_type": "code",
      "metadata": {
        "id": "DgROxyxfSPzW"
      },
      "execution_count": null,
      "outputs": [],
      "source": [
        "# TO DO: Change these parameters and see how statistics change\n",
        "\n",
        "# Generate random data with normal distribution\n",
        "# Change these values:\n",
        "sample_size = 20        # Try: 10, 50, 100\n",
        "data_mean = 15          # Try: 10, 20, 50\n",
        "data_spread = 3         # Try: 1 (tight), 5 (medium), 10 (wide)\n",
        "\n",
        "random_data = [random.gauss(data_mean, data_spread) for _ in range(sample_size)]\n",
        "random_data = [round(x, 1) for x in random_data]  # Round for clarity\n",
        "\n",
        "print(f\"Generated {sample_size} random numbers:\")\n",
        "print(random_data[:10], \"...\" if sample_size > 10 else \"\")\n",
        "\n",
        "print(f\"\\nStatistics:\")\n",
        "print(f\"Mean: {stats.mean(random_data):.2f} (target was {data_mean})\")\n",
        "print(f\"Std Dev: {stats.stdev(random_data):.2f} (target was {data_spread})\")\n",
        "print(f\"Median: {stats.median(random_data):.2f}\")"
      ]
    },
    {
      "cell_type": "markdown",
      "metadata": {
        "id": "Ungt3qE7SPzW"
      },
      "source": [
        "---\n",
        "\n",
        "## Part B: Understanding the Data - Quartiles, Box Plots & Outliers\n",
        "\n",
        "### Problem Statement\n",
        "\n",
        "Compute the values of Q1, Q2 and Q3 for the given data:\n",
        "**12, 15, 14, 13, 16, 15, 14, 15, 14, 13, 100, 105**\n",
        "\n",
        "Also, plot the histogram and box-plot to visualize the outliers.\n",
        "\n",
        "### What are Quartiles?\n",
        "\n",
        "Quartiles divide sorted data into 4 equal parts:\n",
        "- **Q1** (25th percentile): 25% of data is below this value\n",
        "- **Q2** (50th percentile): This is the median\n",
        "- **Q3** (75th percentile): 75% of data is below this value\n",
        "- **IQR** (Interquartile Range) = Q3 - Q1 (middle 50% of data)"
      ]
    },
    {
      "cell_type": "code",
      "metadata": {
        "id": "l-zxVCfESPzW"
      },
      "execution_count": null,
      "outputs": [],
      "source": [
        "import numpy as np\n",
        "import matplotlib.pyplot as plt\n",
        "from scipy.stats import skew\n",
        "\n",
        "# Sample data - notice the outliers (100, 105)!\n",
        "data = [12, 15, 14, 13, 16, 15, 14, 15, 14, 13, 100, 105]\n",
        "\n",
        "# Compute Quartiles\n",
        "Q1 = np.percentile(data, 25)\n",
        "Q2 = np.percentile(data, 50)  # Median\n",
        "Q3 = np.percentile(data, 75)\n",
        "\n",
        "# Compute Skewness\n",
        "data_skewness = skew(data)\n",
        "\n",
        "# Display results\n",
        "print(f\"Q1 (25th percentile): {Q1}\")\n",
        "print(f\"Q2 (Median): {Q2}\")\n",
        "print(f\"Q3 (75th percentile): {Q3}\")\n",
        "print(f\"IQR (Q3 - Q1): {Q3 - Q1}\")\n",
        "print(f\"\\nSkewness: {data_skewness:.3f}\")\n",
        "print(\"Interpretation:\",\n",
        "      \"Right-skewed (positive)\" if data_skewness > 0.5 else\n",
        "      \"Left-skewed (negative)\" if data_skewness < -0.5 else\n",
        "      \"Approximately symmetric\")"
      ]
    },
    {
      "cell_type": "markdown",
      "metadata": {
        "id": "C_PGeWmCSPzX"
      },
      "source": [
        "### Visualizing the Distribution"
      ]
    },
    {
      "cell_type": "code",
      "metadata": {
        "id": "_Pyj-5OmSPzX"
      },
      "execution_count": null,
      "outputs": [],
      "source": [
        "# Plot Histogram and Box Plot\n",
        "plt.figure(figsize=(12, 5))\n",
        "\n",
        "# Histogram\n",
        "plt.subplot(1, 2, 1)\n",
        "plt.hist(data, bins=8, color='skyblue', edgecolor='black')\n",
        "plt.title('Histogram')\n",
        "plt.xlabel('Data Values')\n",
        "plt.ylabel('Frequency')\n",
        "\n",
        "# Box Plot\n",
        "plt.subplot(1, 2, 2)\n",
        "plt.boxplot(data, vert=False)\n",
        "plt.title('Box Plot')\n",
        "plt.xlabel('Data Values')\n",
        "\n",
        "plt.tight_layout()\n",
        "plt.show()"
      ]
    },
    {
      "cell_type": "markdown",
      "metadata": {
        "id": "rCRkd8RiSPzX"
      },
      "source": [
        "### Understanding the Box Plot\n",
        "\n",
        "The box plot shows:\n",
        "- **Box**: The IQR (Q1 to Q3) - contains middle 50% of data\n",
        "- **Line in box**: The median (Q2)\n",
        "- **Whiskers**: Extend to smallest/largest values within 1.5×IQR\n",
        "- **Dots**: Outliers (values beyond whiskers)\n",
        "\n",
        "### Outlier Detection Rule\n",
        "\n",
        "Values are outliers if they are:\n",
        "- Less than Q1 - 1.5×IQR (lower outliers)\n",
        "- Greater than Q3 + 1.5×IQR (upper outliers)"
      ]
    },
    {
      "cell_type": "code",
      "metadata": {
        "id": "z15CdSZWSPzX"
      },
      "execution_count": null,
      "outputs": [],
      "source": [
        "# Calculate outlier boundaries\n",
        "IQR = Q3 - Q1\n",
        "lower_bound = Q1 - 1.5 * IQR\n",
        "upper_bound = Q3 + 1.5 * IQR\n",
        "\n",
        "print(f\"Outlier Detection:\")\n",
        "print(f\"Lower bound: {lower_bound:.2f}\")\n",
        "print(f\"Upper bound: {upper_bound:.2f}\")\n",
        "print(f\"\\nValues outside [{lower_bound:.2f}, {upper_bound:.2f}] are outliers\")\n",
        "\n",
        "# Find outliers\n",
        "outliers = [x for x in data if x < lower_bound or x > upper_bound]\n",
        "print(f\"\\nOutliers detected: {outliers}\")"
      ]
    },
    {
      "cell_type": "markdown",
      "metadata": {
        "id": "lgR-S7b9SPzX"
      },
      "source": [
        "### 📝 TO DO #3: Experiment with Outliers\n",
        "\n",
        "See how outliers affect the mean vs median:"
      ]
    },
    {
      "cell_type": "code",
      "metadata": {
        "id": "Sub0NxlqSPzX"
      },
      "execution_count": null,
      "outputs": [],
      "source": [
        "# Original data with outliers\n",
        "data_with_outliers = [12, 15, 14, 13, 16, 15, 14, 15, 14, 13, 100, 105]\n",
        "\n",
        "# TO DO: Try different outlier values\n",
        "# Change the last two values (100, 105) to something else:\n",
        "# Example: [12, 15, 14, 13, 16, 15, 14, 15, 14, 13, 50, 55]  # Smaller outliers\n",
        "# Example: [12, 15, 14, 13, 16, 15, 14, 15, 14, 13, 200, 250]  # Bigger outliers\n",
        "# Example: [12, 15, 14, 13, 16, 15, 14, 15, 14, 13, 14, 15]  # No outliers\n",
        "\n",
        "print(\"With outliers:\")\n",
        "print(f\"  Mean: {np.mean(data_with_outliers):.2f}\")\n",
        "print(f\"  Median: {np.median(data_with_outliers):.2f}\")\n",
        "\n",
        "# Remove outliers\n",
        "data_clean = [x for x in data_with_outliers if x < 20]  # Remove values > 20\n",
        "\n",
        "print(\"\\nWithout outliers:\")\n",
        "print(f\"  Mean: {np.mean(data_clean):.2f}\")\n",
        "print(f\"  Median: {np.median(data_clean):.2f}\")\n",
        "\n",
        "print(\"\\nNotice: The mean changes dramatically with outliers, but the median stays stable!\")"
      ]
    },
    {
      "cell_type": "markdown",
      "metadata": {
        "id": "TvdgcTgWSPzX"
      },
      "source": [
        "### 📝 TO DO #4: Create Your Own Dataset with Different Distributions"
      ]
    },
    {
      "cell_type": "code",
      "metadata": {
        "id": "PQWwa_ivSPzX"
      },
      "execution_count": null,
      "outputs": [],
      "source": [
        "# TO DO: Uncomment one dataset at a time to see different distributions\n",
        "\n",
        "# 1. Normal distribution (symmetric)\n",
        "# test_data = [10, 11, 12, 12, 13, 13, 13, 14, 14, 15, 15, 16, 16, 17, 18]\n",
        "\n",
        "# 2. Right-skewed (more small values, few large values)\n",
        "# test_data = [1, 2, 2, 3, 3, 3, 4, 4, 5, 5, 6, 7, 8, 15, 20]\n",
        "\n",
        "# 3. Left-skewed (more large values, few small values)\n",
        "# test_data = [5, 10, 15, 17, 18, 18, 19, 19, 19, 20, 20, 20, 20, 20, 20]\n",
        "\n",
        "# 4. Uniform distribution (all values equally likely)\n",
        "test_data = [1, 2, 3, 4, 5, 6, 7, 8, 9, 10, 11, 12, 13, 14, 15]\n",
        "\n",
        "# Create visualizations\n",
        "plt.figure(figsize=(12, 4))\n",
        "\n",
        "plt.subplot(1, 2, 1)\n",
        "plt.hist(test_data, bins=8, color='lightgreen', edgecolor='black')\n",
        "plt.title('Histogram')\n",
        "\n",
        "plt.subplot(1, 2, 2)\n",
        "plt.boxplot(test_data, vert=False)\n",
        "plt.title('Box Plot')\n",
        "\n",
        "plt.tight_layout()\n",
        "plt.show()\n",
        "\n",
        "print(f\"Skewness: {skew(test_data):.3f}\")\n",
        "print(f\"Mean: {np.mean(test_data):.2f}\")\n",
        "print(f\"Median: {np.median(test_data):.2f}\")"
      ]
    },
    {
      "cell_type": "markdown",
      "metadata": {
        "id": "hcBqNf5ISPzY"
      },
      "source": [
        "## Summary\n",
        "\n",
        "### Key Concepts:\n",
        "\n",
        "**Measures of Central Tendency:**\n",
        "- Mean: Sensitive to outliers\n",
        "- Median: Robust to outliers\n",
        "- Mode: Most frequent value\n",
        "\n",
        "**Measures of Spread:**\n",
        "- Variance: Average squared deviation\n",
        "- Standard Deviation: Square root of variance\n",
        "- IQR: Q3 - Q1 (middle 50% range)\n",
        "\n",
        "**Distribution Analysis:**\n",
        "- Quartiles divide data into 4 parts\n",
        "- Box plots show quartiles and outliers\n",
        "- Skewness tells us about asymmetry\n",
        "- Outliers: Values beyond 1.5×IQR from quartiles\n",
        "\n",
        "### Practice Questions:\n",
        "\n",
        "1. Why is median better than mean when you have outliers?\n",
        "2. If Q1=25 and Q3=75, what values would be considered outliers?\n",
        "3. What does positive skewness tell us about the data?\n",
        "4. If all values in a dataset are the same, what is the standard deviation?"
      ]
    }
  ]
}