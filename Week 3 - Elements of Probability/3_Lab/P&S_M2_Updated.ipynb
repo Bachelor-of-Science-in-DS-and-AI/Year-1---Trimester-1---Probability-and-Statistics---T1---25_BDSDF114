{
  "nbformat": 4,
  "nbformat_minor": 0,
  "metadata": {
    "colab": {
      "provenance": []
    },
    "kernelspec": {
      "name": "python3",
      "display_name": "Python 3"
    },
    "language_info": {
      "name": "python"
    }
  },
  "cells": [
    {
      "cell_type": "markdown",
      "metadata": {
        "id": "ebd6c847"
      },
      "source": [
        "# P&S Module 2: Basics of Probability\n",
        "\n",
        "**Course:** Probability and Statistics\n",
        "\n",
        "**Week 3:** Elements of Probability\n",
        "\n",
        "**Topics Covered:**\n",
        "- Basics of Probability (Simple Events)\n",
        "- Probability using Combinations\n",
        "- Simulation Methods for Probability\n",
        "- Complementary Events\n",
        "- Principle of Counting\n",
        "\n",
        "---"
      ]
    },
    {
      "cell_type": "markdown",
      "metadata": {
        "id": "d28ecd12"
      },
      "source": [
        "## Introduction to Probability\n",
        "\n",
        "**Probability** measures how likely an event is to occur. It is expressed as a number between 0 and 1:\n",
        "- **0**: Event is impossible\n",
        "- **1**: Event is certain\n",
        "- **0.5**: Event has equal chance of occurring or not occurring\n",
        "\n",
        "### Basic Probability Formula\n",
        "\n",
        "$$P(A) = \\frac{\\text{Number of favorable outcomes}}{\\text{Total number of possible outcomes}}$$\n",
        "\n",
        "### Key Terms:\n",
        "- **Experiment**: An action that produces observable results\n",
        "- **Sample Space (S)**: Set of all possible outcomes\n",
        "- **Event (A)**: A subset of the sample space\n",
        "- **Favorable Outcome**: An outcome that satisfies the event condition"
      ]
    },
    {
      "cell_type": "markdown",
      "metadata": {
        "id": "84cac950"
      },
      "source": [
        "## Part A: Basic Probability - Simple Events\n",
        "\n",
        "### Problem 1: Rolling a Die\n",
        "\n",
        "A fair six-sided die is rolled. What is the probability of getting a 4?\n",
        "\n",
        "**Understanding:**\n",
        "- Sample space: {1, 2, 3, 4, 5, 6}\n",
        "- Total outcomes: 6\n",
        "- Favorable outcomes: 1\n",
        "- Probability = 1/6"
      ]
    },
    {
      "cell_type": "code",
      "execution_count": null,
      "metadata": {
        "id": "3172d450",
        "colab": {
          "base_uri": "https://localhost:8080/"
        },
        "outputId": "288ef103-cd82-472a-e477-feb05dbd2975"
      },
      "outputs": [
        {
          "output_type": "stream",
          "name": "stdout",
          "text": [
            "Probability of getting a 4: 0.16666666666666666\n",
            "As a fraction: 1/6\n",
            "As a percentage: 16.67%\n"
          ]
        }
      ],
      "source": [
        "# Problem 1: A die is rolled. What is the probability of getting a 4?\n",
        "\n",
        "total_outcomes = 6\n",
        "favorable_outcomes = 1\n",
        "\n",
        "probability = favorable_outcomes / total_outcomes\n",
        "print(f\"Probability of getting a 4: {probability}\")\n",
        "print(f\"As a fraction: {favorable_outcomes}/{total_outcomes}\")\n",
        "print(f\"As a percentage: {probability * 100:.2f}%\")"
      ]
    },
    {
      "cell_type": "markdown",
      "metadata": {
        "id": "ce416e8d"
      },
      "source": [
        "### 📝 TO DO #1: Change the Event\n",
        "\n",
        "Modify the code above to find the probability of:\n",
        "1. Rolling a number greater than 4 (favorable outcomes = 2: {5, 6})\n",
        "2. Rolling an even number (favorable outcomes = 3: {2, 4, 6})\n",
        "3. Rolling a number less than or equal to 3 (favorable outcomes = 3: {1, 2, 3})\n",
        "\n",
        "**Challenge:** What is the probability of rolling a number between 1 and 6? Why is the answer 1?\n",
        "\n",
        "---"
      ]
    },
    {
      "cell_type": "markdown",
      "metadata": {
        "id": "f96b7051"
      },
      "source": [
        "## Part B: Probability Using Combinations\n",
        "\n",
        "Sometimes we need to select multiple items from a group. We use **combinations** when the order doesn't matter.\n",
        "\n",
        "### Combination Formula\n",
        "\n",
        "$$C(n, r) = \\binom{n}{r} = \\frac{n!}{r!(n-r)!}$$\n",
        "\n",
        "Where:\n",
        "- **n** = total number of items\n",
        "- **r** = number of items to select\n",
        "- **!** = factorial (e.g., 5! = 5 × 4 × 3 × 2 × 1)\n",
        "\n",
        "### Problem 2: Drawing Colored Balls\n",
        "\n",
        "A bag contains 5 red balls and 3 blue balls. Two balls are drawn at random. What is the probability that both are red?\n",
        "\n",
        "**Understanding the problem:**\n",
        "- Total balls = 8\n",
        "- Ways to choose 2 from 8 = C(8,2) = 28\n",
        "- Ways to choose 2 red from 5 red = C(5,2) = 10\n",
        "- Probability = 10/28 = 5/14"
      ]
    },
    {
      "cell_type": "code",
      "execution_count": null,
      "metadata": {
        "id": "8a0ca08e",
        "colab": {
          "base_uri": "https://localhost:8080/"
        },
        "outputId": "6375f15a-91c8-4f44-8c98-8f451db9c679"
      },
      "outputs": [
        {
          "output_type": "stream",
          "name": "stdout",
          "text": [
            "Ways to choose 2 red balls: C(5,2) = 10\n",
            "Ways to choose any 2 balls: C(8,2) = 28\n",
            "Probability both balls are red: 10/28 = 0.3571\n",
            "As a percentage: 35.71%\n"
          ]
        }
      ],
      "source": [
        "import math\n",
        "\n",
        "# Problem 2: A bag has 5 red balls and 3 blue balls.\n",
        "# Two balls are drawn at random. Probability both are red?\n",
        "\n",
        "# Total balls\n",
        "total_balls = 8\n",
        "red_balls = 5\n",
        "blue_balls = 3\n",
        "\n",
        "# Calculate combinations\n",
        "# C(5,2) = ways to choose 2 red balls from 5\n",
        "# C(8,2) = ways to choose any 2 balls from 8\n",
        "ways_to_choose_2_red = math.comb(red_balls, 2)\n",
        "ways_to_choose_any_2 = math.comb(total_balls, 2)\n",
        "\n",
        "# Probability\n",
        "probability = ways_to_choose_2_red / ways_to_choose_any_2\n",
        "\n",
        "print(f\"Ways to choose 2 red balls: C({red_balls},2) = {ways_to_choose_2_red}\")\n",
        "print(f\"Ways to choose any 2 balls: C({total_balls},2) = {ways_to_choose_any_2}\")\n",
        "print(f\"Probability both balls are red: {ways_to_choose_2_red}/{ways_to_choose_any_2} = {probability:.4f}\")\n",
        "print(f\"As a percentage: {probability * 100:.2f}%\")"
      ]
    },
    {
      "cell_type": "markdown",
      "metadata": {
        "id": "3085cef6"
      },
      "source": [
        "### Understanding Combinations\n",
        "\n",
        "Let's visualize what C(5,2) means:\n",
        "- If we have 5 red balls labeled R1, R2, R3, R4, R5\n",
        "- C(5,2) = 10 means there are 10 ways to pick 2 balls:\n",
        "  - (R1,R2), (R1,R3), (R1,R4), (R1,R5)\n",
        "  - (R2,R3), (R2,R4), (R2,R5)\n",
        "  - (R3,R4), (R3,R5)\n",
        "  - (R4,R5)\n",
        "\n",
        "### 📝 TO DO #2: Different Scenarios\n",
        "\n",
        "Modify the problem to find:\n",
        "1. Probability that both balls are blue (change red_balls and blue_balls)\n",
        "2. What if we have 6 red and 4 blue balls?\n",
        "3. What if we draw 3 balls instead of 2?\n",
        "\n",
        "**Try this:** What is the probability of drawing at least one red ball?"
      ]
    },
    {
      "cell_type": "code",
      "source": [
        "# TO DO: Calculate probability of at least one red ball\n",
        "# Hint: P(at least one red) = 1 - P(no red balls)\n",
        "# P(no red balls) = P(both blue)\n",
        "\n",
        "ways_to_choose_2_blue = math.comb(blue_balls, 2)\n",
        "prob_both_blue = ways_to_choose_2_blue / ways_to_choose_any_2\n",
        "prob_at_least_one_red = 1 - prob_both_blue\n",
        "\n",
        "print(f\"\\nBonus: Probability of at least one red ball:\")\n",
        "print(f\"P(at least one red) = 1 - P(both blue)\")\n",
        "print(f\"= 1 - {prob_both_blue:.4f} = {prob_at_least_one_red:.4f}\")"
      ],
      "metadata": {
        "id": "uB_PSHsYoiV7",
        "colab": {
          "base_uri": "https://localhost:8080/"
        },
        "outputId": "35f68168-f558-43a0-9bab-ceacbeb425c3"
      },
      "execution_count": null,
      "outputs": [
        {
          "output_type": "stream",
          "name": "stdout",
          "text": [
            "\n",
            "Bonus: Probability of at least one red ball:\n",
            "P(at least one red) = 1 - P(both blue)\n",
            "= 1 - 0.1071 = 0.8929\n"
          ]
        }
      ]
    },
    {
      "cell_type": "markdown",
      "source": [
        "# Law of Large Numbers\n",
        "\n",
        "**The Law of Large Numbers says that the more times you repeat something random, the closer your actual results will get to what's theoretically expected.**\n",
        "\n",
        "## Coin Toss Example\n",
        "\n",
        "### Small Sample (4 tosses)\n",
        "- You might get 3 heads and 1 tail, or even 4 heads\n",
        "- That's pretty far from the expected 50-50 split\n",
        "- **Small samples are unpredictable!**\n",
        "\n",
        "### Medium Sample (1,000 tosses)\n",
        "- You'll probably get something like 497 heads and 503 tails\n",
        "- Very close to the expected 500-500 split\n",
        "- The randomness starts to balance out\n",
        "\n",
        "### Large Sample (10,000 tosses)\n",
        "- You might get 5,003 heads and 4,997 tails\n",
        "- Even closer to the theoretical 50% probability\n",
        "- **The underlying pattern reveals itself!**\n",
        "\n",
        "## Key Insight\n",
        "\n",
        "> In small numbers, randomness dominates. But as you do more and more trials, the randomness starts to \"cancel itself out,\" and the underlying pattern (the true probability) reveals itself.\n",
        "\n",
        "## Mathematical Formula\n",
        "\n",
        "As the number of trials (n) approaches infinity, the sample average converges to the expected value:\n",
        "\n",
        "$$\\text{lim}_{n → ∞} [\\text{Sample Average}] = \\text{Expected Value}$$\n",
        "\n",
        "---\n",
        "\n",
        "**Remember**: The law doesn't say what will happen in any single trial, but it does tell us what happens on average over many trials!"
      ],
      "metadata": {
        "id": "MEN5Z9Lurciv"
      }
    },
    {
      "cell_type": "markdown",
      "metadata": {
        "id": "94f9d37d"
      },
      "source": [
        "---\n",
        "\n",
        "## Part C: Simulation Approach to Probability (Law of Large Numbers)\n",
        "\n",
        "For complex problems, we can **estimate** probability by running many experiments (simulations).\n",
        "\n",
        "### Problem 3: Sum of Two Dice\n",
        "\n",
        "Estimate the probability of rolling a sum of 7 with two dice.\n",
        "\n",
        "**Theoretical Answer:**\n",
        "- Sample space size: 6 × 6 = 36\n",
        "- Favorable outcomes: (1,6), (2,5), (3,4), (4,3), (5,2), (6,1) = 6 outcomes\n",
        "- Theoretical probability = 6/36 = 1/6 ≈ 0.1667\n",
        "\n",
        "**Simulation Approach:**\n",
        "We'll roll two dice many times and count how often the sum is 7."
      ]
    },
    {
      "cell_type": "code",
      "execution_count": null,
      "metadata": {
        "id": "b6ceccdd",
        "colab": {
          "base_uri": "https://localhost:8080/"
        },
        "outputId": "8461b2d2-6d2b-4f66-fcdf-caad56b5269a"
      },
      "outputs": [
        {
          "output_type": "stream",
          "name": "stdout",
          "text": [
            "Number of trials: 100,000\n",
            "Number of successes (sum = 7): 16,840\n",
            "Estimated probability: 0.1684\n",
            "Theoretical probability: 0.1667\n",
            "Difference: 0.0017\n",
            "\n",
            "Convergence to theoretical value:\n",
            "  After    100 trials: 0.1800\n",
            "  After    500 trials: 0.1600\n",
            "  After  1,000 trials: 0.1590\n",
            "  After  5,000 trials: 0.1696\n",
            "  After 10,000 trials: 0.1664\n",
            "  After 50,000 trials: 0.1662\n",
            "  After 100,000 trials: 0.1684\n"
          ]
        }
      ],
      "source": [
        "import random\n",
        "import matplotlib.pyplot as plt\n",
        "\n",
        "# Problem 3: Estimate probability of rolling a sum of 7 with two dice\n",
        "\n",
        "trials = 100000  # Number of simulations\n",
        "success = 0      # Count of times sum equals 7\n",
        "\n",
        "# Track running probability for visualization\n",
        "running_probs = []\n",
        "check_points = [100, 500, 1000, 5000, 10000, 50000, 100000]\n",
        "\n",
        "for i in range(1, trials + 1):\n",
        "    die1 = random.randint(1, 6)\n",
        "    die2 = random.randint(1, 6)\n",
        "\n",
        "    if die1 + die2 == 7:\n",
        "        success += 1\n",
        "\n",
        "    # Record probability at checkpoints\n",
        "    if i in check_points:\n",
        "        running_probs.append((i, success / i))\n",
        "\n",
        "# Final probability\n",
        "estimated_probability = success / trials\n",
        "theoretical_probability = 6 / 36\n",
        "\n",
        "print(f\"Number of trials: {trials:,}\")\n",
        "print(f\"Number of successes (sum = 7): {success:,}\")\n",
        "print(f\"Estimated probability: {estimated_probability:.4f}\")\n",
        "print(f\"Theoretical probability: {theoretical_probability:.4f}\")\n",
        "print(f\"Difference: {abs(estimated_probability - theoretical_probability):.4f}\")\n",
        "print(\"\\nConvergence to theoretical value:\")\n",
        "for point, prob in running_probs:\n",
        "    print(f\"  After {point:>6,} trials: {prob:.4f}\")"
      ]
    },
    {
      "cell_type": "markdown",
      "metadata": {
        "id": "e73f60c9"
      },
      "source": [
        "### Visualizing Convergence\n",
        "\n",
        "As we increase the number of trials, the estimated probability gets closer to the theoretical value (Law of Large Numbers)."
      ]
    },
    {
      "cell_type": "code",
      "execution_count": null,
      "metadata": {
        "id": "a0d1cc5d",
        "colab": {
          "base_uri": "https://localhost:8080/",
          "height": 506
        },
        "outputId": "6570e969-7009-4942-e160-e09122930bd4"
      },
      "outputs": [
        {
          "output_type": "display_data",
          "data": {
            "text/plain": [
              "<Figure size 1000x500 with 2 Axes>"
            ],
            "image/png": "[encoded data removed]"
          },
          "metadata": {}
        }
      ],
      "source": [
        "# Visualization: How probability converges over trials\n",
        "plt.figure(figsize=(10, 5))\n",
        "\n",
        "# Plot 1: Running probability\n",
        "plt.subplot(1, 2, 1)\n",
        "x_vals = [p[0] for p in running_probs]\n",
        "y_vals = [p[1] for p in running_probs]\n",
        "plt.plot(x_vals, y_vals, 'bo-', label='Estimated Probability')\n",
        "plt.axhline(y=theoretical_probability, color='r', linestyle='--', label='Theoretical (1/6)')\n",
        "plt.xlabel('Number of Trials')\n",
        "plt.ylabel('Probability')\n",
        "plt.title('Convergence to Theoretical Probability')\n",
        "plt.xscale('log')\n",
        "plt.legend()\n",
        "plt.grid(True, alpha=0.3)\n",
        "\n",
        "# Plot 2: Distribution of dice sums\n",
        "plt.subplot(1, 2, 2)\n",
        "sums_count = {}\n",
        "for _ in range(10000):\n",
        "    sum_dice = random.randint(1, 6) + random.randint(1, 6)\n",
        "    sums_count[sum_dice] = sums_count.get(sum_dice, 0) + 1\n",
        "\n",
        "sums = sorted(sums_count.keys())\n",
        "counts = [sums_count[s] for s in sums]\n",
        "plt.bar(sums, counts, color='skyblue', edgecolor='black')\n",
        "plt.xlabel('Sum of Two Dice')\n",
        "plt.ylabel('Frequency')\n",
        "plt.title('Distribution of Dice Sums (10,000 rolls)')\n",
        "plt.xticks(range(2, 13))\n",
        "plt.grid(axis='y', alpha=0.3)\n",
        "\n",
        "plt.tight_layout()\n",
        "plt.show()"
      ]
    },
    {
      "cell_type": "markdown",
      "metadata": {
        "id": "6def0a13"
      },
      "source": [
        "### 📝 TO DO #3: Experiment with Simulations\n",
        "\n",
        "Try these modifications:"
      ]
    },
    {
      "cell_type": "code",
      "execution_count": null,
      "metadata": {
        "id": "76c84ac9",
        "colab": {
          "base_uri": "https://localhost:8080/"
        },
        "outputId": "e2302efa-76b2-4a5f-8350-b1f5907d31dd"
      },
      "outputs": [
        {
          "output_type": "stream",
          "name": "stdout",
          "text": [
            "Probabilities for different sums:\n",
            "Sum =  2: 0.0279 (1.0/36)\n",
            "Sum =  3: 0.0548 (2.0/36)\n",
            "Sum =  4: 0.0830 (3.0/36)\n",
            "Sum =  5: 0.1115 (4.0/36)\n",
            "Sum =  6: 0.1372 (4.9/36)\n",
            "Sum =  7: 0.1659 (6.0/36)\n",
            "Sum =  8: 0.1394 (5.0/36)\n",
            "Sum =  9: 0.1111 (4.0/36)\n",
            "Sum = 10: 0.0818 (2.9/36)\n",
            "Sum = 11: 0.0553 (2.0/36)\n",
            "Sum = 12: 0.0287 (1.0/36)\n"
          ]
        }
      ],
      "source": [
        "# TO DO: Change the target sum and see different probabilities\n",
        "\n",
        "def simulate_dice_sum(target_sum, num_trials):\n",
        "    success = 0\n",
        "    for _ in range(num_trials):\n",
        "        die1 = random.randint(1, 6)\n",
        "        die2 = random.randint(1, 6)\n",
        "        if die1 + die2 == target_sum:\n",
        "            success += 1\n",
        "    return success / num_trials\n",
        "\n",
        "# Try different target sums\n",
        "print(\"Probabilities for different sums:\")\n",
        "for target in [2, 3, 4, 5, 6, 7, 8, 9, 10, 11, 12]:\n",
        "    estimated = simulate_dice_sum(target, 100000)\n",
        "    print(f\"Sum = {target:2d}: {estimated:.4f} ({estimated * 36:.1f}/36)\")"
      ]
    },
    {
      "cell_type": "markdown",
      "metadata": {
        "id": "0f038ee2"
      },
      "source": [
        "**Questions to think about:**\n",
        "1. Which sum is most likely? Why?\n",
        "2. Which sums are equally likely?\n",
        "3. Why is sum = 2 much less likely than sum = 7?\n",
        "\n",
        "---"
      ]
    },
    {
      "cell_type": "markdown",
      "metadata": {
        "id": "e358654d"
      },
      "source": [
        "## Part D: Complementary Events\n",
        "\n",
        "The **complement** of an event A (written as A' or Ā) is the event that A does NOT occur.\n",
        "\n",
        "### Key Rule:\n",
        "$$P(A') = 1 - P(A)$$\n",
        "\n",
        "This is useful because sometimes it's easier to calculate the probability of something NOT happening!\n",
        "\n",
        "### Problem 4: Not Rolling a 1\n",
        "\n",
        "What is the probability of NOT rolling a 1 on a die?\n",
        "\n",
        "**Method 1 (Direct):**\n",
        "- Favorable outcomes: {2, 3, 4, 5, 6} = 5 outcomes\n",
        "- P(not 1) = 5/6\n",
        "\n",
        "**Method 2 (Complement):**\n",
        "- P(rolling 1) = 1/6\n",
        "- P(not rolling 1) = 1 - 1/6 = 5/6"
      ]
    },
    {
      "cell_type": "code",
      "execution_count": null,
      "metadata": {
        "id": "b1fe7e9b",
        "colab": {
          "base_uri": "https://localhost:8080/"
        },
        "outputId": "b6fc6ca5-3806-4606-d93a-80298990c14e"
      },
      "outputs": [
        {
          "output_type": "stream",
          "name": "stdout",
          "text": [
            "Method 1 (Direct):\n",
            "  Favorable outcomes: 5 (numbers 2,3,4,5,6)\n",
            "  P(not rolling 1) = 5/6 = 0.8333\n",
            "\n",
            "Method 2 (Complement Rule):\n",
            "  P(rolling 1) = 1/6 = 0.1667\n",
            "  P(not rolling 1) = 1 - P(rolling 1)\n",
            "                   = 1 - 0.1667 = 0.8333\n",
            "\n",
            "Both methods give the same answer!\n"
          ]
        }
      ],
      "source": [
        "# Problem 4: Probability of not rolling 1 on a die\n",
        "\n",
        "# Method 1: Direct calculation\n",
        "prob_not_one_direct = 5 / 6\n",
        "\n",
        "# Method 2: Using complement\n",
        "prob_one = 1 / 6\n",
        "prob_not_one_complement = 1 - prob_one\n",
        "\n",
        "print(\"Method 1 (Direct):\")\n",
        "print(f\"  Favorable outcomes: 5 (numbers 2,3,4,5,6)\")\n",
        "print(f\"  P(not rolling 1) = 5/6 = {prob_not_one_direct:.4f}\")\n",
        "\n",
        "print(\"\\nMethod 2 (Complement Rule):\")\n",
        "print(f\"  P(rolling 1) = 1/6 = {prob_one:.4f}\")\n",
        "print(f\"  P(not rolling 1) = 1 - P(rolling 1)\")\n",
        "print(f\"                   = 1 - {prob_one:.4f} = {prob_not_one_complement:.4f}\")\n",
        "\n",
        "print(\"\\nBoth methods give the same answer!\")"
      ]
    },
    {
      "cell_type": "markdown",
      "source": [
        "### When to Use the Complement Rule?\n",
        "\n",
        "Use complements when:\n",
        "1. \"At least one\" problems (easier to find \"none\")\n",
        "2. \"Not all\" problems (easier to find \"all\")\n",
        "3. Complex favorable outcomes but simple unfavorable ones\n",
        "\n",
        "### Example: At Least One Head\n",
        "\n",
        "When flipping 3 coins, find P(at least one head).\n",
        "\n",
        "**Hard way:** Count outcomes with 1, 2, or 3 heads\n",
        "**Easy way:** P(at least one head) = 1 - P(no heads)"
      ],
      "metadata": {
        "id": "VC263XBnpf0K"
      }
    },
    {
      "cell_type": "markdown",
      "metadata": {
        "id": "5a1530b9"
      },
      "source": [
        "---\n",
        "\n",
        "## Part E: Principle of Counting\n",
        "\n",
        "### Problem 5: Card Selection\n",
        "\n",
        "Find the probability of selecting 3 kings from a standard 52-card deck.\n",
        "\n",
        "**Understanding:**\n",
        "- Total cards: 52\n",
        "- Kings in deck: 4\n",
        "- We're selecting 3 cards\n",
        "\n",
        "**Calculation:**\n",
        "- Ways to select 3 kings from 4: C(4,3) = 4\n",
        "- Ways to select any 3 cards from 52: C(52,3) = 22,100\n",
        "- Probability = 4/22,100"
      ]
    },
    {
      "cell_type": "code",
      "execution_count": null,
      "metadata": {
        "id": "89817ec3",
        "colab": {
          "base_uri": "https://localhost:8080/"
        },
        "outputId": "19b17032-892d-4594-e805-e2f6e9b99b48"
      },
      "outputs": [
        {
          "output_type": "stream",
          "name": "stdout",
          "text": [
            "Ways to select 3 kings from 4: C(4,3) = 4\n",
            "Ways to select any 3 cards from 52: C(52,3) = 22,100\n",
            "Probability of 3 kings: 4/22,100\n",
            "                      = 0.000181\n",
            "                      = 0.0181%\n"
          ]
        }
      ],
      "source": [
        "# Problem 5: Probability of selecting 3 kings from 52-card deck\n",
        "\n",
        "total_cards = 52\n",
        "kings = 4\n",
        "cards_to_select = 3\n",
        "\n",
        "# Calculate combinations\n",
        "ways_to_select_3_kings = math.comb(kings, cards_to_select)\n",
        "ways_to_select_any_3 = math.comb(total_cards, cards_to_select)\n",
        "\n",
        "# Probability\n",
        "probability = ways_to_select_3_kings / ways_to_select_any_3\n",
        "\n",
        "print(f\"Ways to select 3 kings from {kings}: C({kings},{cards_to_select}) = {ways_to_select_3_kings}\")\n",
        "print(f\"Ways to select any 3 cards from {total_cards}: C({total_cards},{cards_to_select}) = {ways_to_select_any_3:,}\")\n",
        "print(f\"Probability of 3 kings: {ways_to_select_3_kings}/{ways_to_select_any_3:,}\")\n",
        "print(f\"                      = {probability:.6f}\")\n",
        "print(f\"                      = {probability * 100:.4f}%\")"
      ]
    },
    {
      "cell_type": "markdown",
      "metadata": {
        "id": "2e5e0a19"
      },
      "source": [
        "### Problem 6: Rolling Doubles\n",
        "\n",
        "What is the probability of rolling doubles with two dice?\n",
        "\n",
        "**Understanding:**\n",
        "- Doubles means both dice show the same number: (1,1), (2,2), ..., (6,6)\n",
        "- Favorable outcomes: 6\n",
        "- Total outcomes: 6 × 6 = 36"
      ]
    },
    {
      "cell_type": "code",
      "execution_count": null,
      "metadata": {
        "id": "2800f877",
        "colab": {
          "base_uri": "https://localhost:8080/"
        },
        "outputId": "346e8530-0aad-4158-8a39-26e831937eca"
      },
      "outputs": [
        {
          "output_type": "stream",
          "name": "stdout",
          "text": [
            "All possible doubles: [(1, 1), (2, 2), (3, 3), (4, 4), (5, 5), (6, 6)]\n",
            "Number of doubles: 6\n",
            "Total outcomes: 36\n",
            "Probability of doubles: 6/36 = 0.1667\n",
            "As a percentage: 16.67%\n"
          ]
        }
      ],
      "source": [
        "# Problem 6: Probability of rolling doubles with two dice\n",
        "\n",
        "# Count favorable outcomes (both dice same)\n",
        "doubles = 0\n",
        "all_outcomes = []\n",
        "\n",
        "for die1 in range(1, 7):\n",
        "    for die2 in range(1, 7):\n",
        "        all_outcomes.append((die1, die2))\n",
        "        if die1 == die2:\n",
        "            doubles += 1\n",
        "\n",
        "total_outcomes = len(all_outcomes)\n",
        "probability = doubles / total_outcomes\n",
        "\n",
        "print(f\"All possible doubles: {[(i,i) for i in range(1,7)]}\")\n",
        "print(f\"Number of doubles: {doubles}\")\n",
        "print(f\"Total outcomes: {total_outcomes}\")\n",
        "print(f\"Probability of doubles: {doubles}/{total_outcomes} = {probability:.4f}\")\n",
        "print(f\"As a percentage: {probability * 100:.2f}%\")"
      ]
    },
    {
      "cell_type": "markdown",
      "metadata": {
        "id": "9e29f39d"
      },
      "source": [
        "### 📝 TO DO #6: Practice\n",
        "\n",
        "1. Arrange 5 books on a shelf?\n",
        "2. Choose 2 toppings from 8?"
      ]
    },
    {
      "cell_type": "markdown",
      "metadata": {
        "id": "bbbfd0e0"
      },
      "source": [
        "---\n",
        "\n",
        "## Summary\n",
        "\n",
        "### Key Concepts Covered:\n",
        "\n",
        "**1. Basic Probability:**\n",
        "- Probability = Favorable Outcomes / Total Outcomes\n",
        "- Values range from 0 (impossible) to 1 (certain)\n",
        "\n",
        "**2. Combinations:**\n",
        "- Used when order doesn't matter\n",
        "- Formula: C(n,r) = n! / (r!(n-r)!)\n",
        "- Applications: Selecting items, card problems\n",
        "\n",
        "**3. Simulation:**\n",
        "- Estimate probability by running many trials\n",
        "- Law of Large Numbers: More trials = better estimate\n",
        "- Useful for complex problems\n",
        "\n",
        "**4. Complementary Events:**\n",
        "- P(A') = 1 - P(A)\n",
        "- Use when \"not happening\" is easier to calculate\n",
        "- Helpful for \"at least one\" problems\n",
        "\n",
        "**5. Counting Principles:**\n",
        "- Permutations: Order matters (n!)\n",
        "- Combinations: Order doesn't matter (C(n,r))\n",
        "- Multiplication principle: Independent choices\n",
        "\n",
        "---"
      ]
    }
  ]
}