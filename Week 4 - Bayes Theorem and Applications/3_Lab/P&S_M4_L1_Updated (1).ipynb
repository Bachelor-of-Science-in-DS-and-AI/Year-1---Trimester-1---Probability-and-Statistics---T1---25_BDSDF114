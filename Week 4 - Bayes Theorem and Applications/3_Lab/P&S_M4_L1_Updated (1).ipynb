{
  "nbformat": 4,
  "nbformat_minor": 0,
  "metadata": {
    "colab": {
      "provenance": []
    },
    "kernelspec": {
      "name": "python3",
      "display_name": "Python 3"
    },
    "language_info": {
      "name": "python"
    }
  },
  "cells": [
    {
      "cell_type": "markdown",
      "metadata": {
        "id": "686601cf"
      },
      "source": [
        "# P&S Module 4: Conditional Probability and Bayes' Theorem\n",
        "\n",
        "**Course:** Probability and Statistics\n",
        "\n",
        "**Week 4:** Bayes Theorem and Applications\n",
        "\n",
        "**Topics Covered:**\n",
        "- Conditional Probability\n",
        "- Bayes' Formula and Applications\n",
        "- Independent Events\n",
        "- Naive Bayes Classification\n",
        "\n",
        "---"
      ]
    },
    {
      "cell_type": "markdown",
      "metadata": {
        "id": "9215c432"
      },
      "source": [
        "## Introduction\n",
        "\n",
        "In Week 3, we learned basic probability where events occur in isolation. But in real life, events often influence each other. For example:\n",
        "- What's the probability of rain **given that** it's cloudy?\n",
        "- What's the probability a patient has a disease **given that** the test is positive?\n",
        "- What's the probability an email is spam **given that** it contains certain words?\n",
        "\n",
        "This is where **conditional probability** comes in - the probability of an event occurring given that another event has already occurred.\n",
        "\n",
        "---"
      ]
    },
    {
      "cell_type": "markdown",
      "metadata": {
        "id": "6177a825"
      },
      "source": [
        "## Part A: Conditional Probability\n",
        "\n",
        "### Definition\n",
        "\n",
        "The **conditional probability** of event A given event B is:\n",
        "\n",
        "$$P(A|B) = \\frac{P(A \\cap B)}{P(B)}$$\n",
        "\n",
        "Read as: \"Probability of A given B\"\n",
        "\n",
        "**Understanding the formula:**\n",
        "- **Numerator P(A ∩ B)**: Probability that both A and B occur\n",
        "- **Denominator P(B)**: Probability that B occurs\n",
        "- We're restricting our sample space to only cases where B has occurred\n",
        "\n",
        "### Problem 1: Drawing Cards Without Replacement\n",
        "\n",
        "A deck has 52 cards. Two cards are drawn without replacement. What is the probability that the second card is a King, given that the first card was a King?"
      ]
    },
    {
      "cell_type": "code",
      "execution_count": null,
      "metadata": {
        "id": "a5f3ad60",
        "colab": {
          "base_uri": "https://localhost:8080/"
        },
        "outputId": "3845fd17-4523-4b81-cb36-7e66ce8d1527"
      },
      "outputs": [
        {
          "output_type": "stream",
          "name": "stdout",
          "text": [
            "Drawing cards WITHOUT replacement:\n",
            "Total cards initially: 52\n",
            "Kings initially: 4\n",
            "\n",
            "After drawing one King:\n",
            "  Remaining cards: 51\n",
            "  Remaining Kings: 3\n",
            "\n",
            "P(2nd King | 1st King) = 3/51 = 0.0588\n",
            "As a percentage: 5.88%\n"
          ]
        }
      ],
      "source": [
        "# Problem 1: Conditional probability with cards\n",
        "\n",
        "# Initial setup\n",
        "total_cards = 52\n",
        "kings = 4\n",
        "\n",
        "# After drawing one King\n",
        "remaining_cards = 51\n",
        "remaining_kings = 3\n",
        "\n",
        "# P(Second is King | First is King)\n",
        "prob_second_king_given_first_king = remaining_kings / remaining_cards\n",
        "\n",
        "print(\"Drawing cards WITHOUT replacement:\")\n",
        "print(f\"Total cards initially: {total_cards}\")\n",
        "print(f\"Kings initially: {kings}\")\n",
        "print(f\"\\nAfter drawing one King:\")\n",
        "print(f\"  Remaining cards: {remaining_cards}\")\n",
        "print(f\"  Remaining Kings: {remaining_kings}\")\n",
        "print(f\"\\nP(2nd King | 1st King) = {remaining_kings}/{remaining_cards} = {prob_second_king_given_first_king:.4f}\")\n",
        "print(f\"As a percentage: {prob_second_king_given_first_king * 100:.2f}%\")"
      ]
    },
    {
      "cell_type": "markdown",
      "metadata": {
        "id": "f1faa73b"
      },
      "source": [
        "### Understanding the Result\n",
        "\n",
        "Notice that:\n",
        "- **Without replacement**: P(2nd King | 1st King) = 3/51 ≈ 0.0588\n",
        "- **With replacement**: P(2nd King | 1st King) = 4/52 ≈ 0.0769\n",
        "\n",
        "The probability **changes** when we don't replace the first card because the sample space has been reduced.\n",
        "\n",
        "### 📝 TO DO #1: Explore Different Scenarios\n",
        "\n",
        "Try these modifications:"
      ]
    },
    {
      "cell_type": "code",
      "execution_count": null,
      "metadata": {
        "id": "ee66107f",
        "colab": {
          "base_uri": "https://localhost:8080/"
        },
        "outputId": "be1e4eb8-e142-408c-8f1f-820af2ca0f96"
      },
      "outputs": [
        {
          "output_type": "stream",
          "name": "stdout",
          "text": [
            "Scenario 1: First card was NOT a King\n",
            "P(2nd King | 1st NOT King) = 0.0784\n",
            "\n",
            "Scenario 2: First two cards were Kings\n",
            "P(3rd King | first two Kings) = 0.0400\n",
            "\n"
          ]
        }
      ],
      "source": [
        "# TO DO: Calculate these conditional probabilities\n",
        "\n",
        "# Scenario 1: What if the first card was NOT a King?\n",
        "remaining_after_non_king = 51\n",
        "kings_remaining = 4\n",
        "prob_king_given_non_king = kings_remaining / remaining_after_non_king\n",
        "\n",
        "print(\"Scenario 1: First card was NOT a King\")\n",
        "print(f\"P(2nd King | 1st NOT King) = {prob_king_given_non_king:.4f}\\n\")\n",
        "\n",
        "# Scenario 2: Three cards drawn, first two are Kings\n",
        "# What's P(3rd is King | first two are Kings)?\n",
        "remaining_cards_3rd = 50\n",
        "remaining_kings_3rd = 2\n",
        "prob_3rd_king = remaining_kings_3rd / remaining_cards_3rd\n",
        "\n",
        "print(\"Scenario 2: First two cards were Kings\")\n",
        "print(f\"P(3rd King | first two Kings) = {prob_3rd_king:.4f}\\n\")\n",
        "\n",
        "# TO DO: Try calculating:\n",
        "# What if we draw from a deck with only 26 cards (half deck)?\n",
        "# What if we're drawing Aces instead of Kings?"
      ]
    },
    {
      "cell_type": "markdown",
      "metadata": {
        "id": "4faaae77"
      },
      "source": [
        "---\n",
        "\n",
        "## Part B: Multiplication Rule\n",
        "\n",
        "From the conditional probability formula, we can derive the **multiplication rule**:\n",
        "\n",
        "$$P(A \\cap B) = P(B) \\times P(A|B)$$\n",
        "\n",
        "Or equivalently:\n",
        "\n",
        "$$P(A \\cap B) = P(A) \\times P(B|A)$$\n",
        "\n",
        "This tells us how to find the probability that both events occur.\n",
        "\n",
        "### Problem 2: Medical Testing\n",
        "\n",
        "A disease affects 1% of the population. A test for this disease is 95% accurate (both for positive and negative results).\n",
        "\n",
        "- P(Disease) = 0.01\n",
        "- P(Positive Test | Disease) = 0.95\n",
        "- P(Negative Test | No Disease) = 0.95\n",
        "\n",
        "What is the probability that someone has the disease AND tests positive?"
      ]
    },
    {
      "cell_type": "code",
      "execution_count": null,
      "metadata": {
        "id": "a86f3bba",
        "colab": {
          "base_uri": "https://localhost:8080/"
        },
        "outputId": "87525f9f-4d04-4501-bfe8-39381ddc6b57"
      },
      "outputs": [
        {
          "output_type": "stream",
          "name": "stdout",
          "text": [
            "Medical Testing Scenario:\n",
            "P(Disease) = 0.01\n",
            "P(Positive Test | Disease) = 0.95\n",
            "\n",
            "Using Multiplication Rule:\n",
            "P(Disease AND Positive Test) = P(Disease) × P(Positive | Disease)\n",
            "                              = 0.01 × 0.95\n",
            "                              = 0.0095\n",
            "\n",
            "This means 0.95% of the population has the disease AND tests positive.\n"
          ]
        }
      ],
      "source": [
        "# Problem 2: Medical testing - multiplication rule\n",
        "\n",
        "# Given probabilities\n",
        "p_disease = 0.01\n",
        "p_positive_given_disease = 0.95\n",
        "p_negative_given_no_disease = 0.95\n",
        "\n",
        "# Using multiplication rule: P(Disease AND Positive) = P(Disease) × P(Positive | Disease)\n",
        "p_disease_and_positive = p_disease * p_positive_given_disease\n",
        "\n",
        "print(\"Medical Testing Scenario:\")\n",
        "print(f\"P(Disease) = {p_disease}\")\n",
        "print(f\"P(Positive Test | Disease) = {p_positive_given_disease}\")\n",
        "print(f\"\\nUsing Multiplication Rule:\")\n",
        "print(f\"P(Disease AND Positive Test) = P(Disease) × P(Positive | Disease)\")\n",
        "print(f\"                              = {p_disease} × {p_positive_given_disease}\")\n",
        "print(f\"                              = {p_disease_and_positive:.4f}\")\n",
        "print(f\"\\nThis means {p_disease_and_positive * 100:.2f}% of the population has the disease AND tests positive.\")"
      ]
    },
    {
      "cell_type": "markdown",
      "metadata": {
        "id": "ad6edc2e"
      },
      "source": [
        "### Visualizing with a Tree Diagram\n",
        "\n",
        "Let's visualize this scenario with 10,000 people:"
      ]
    },
    {
      "cell_type": "code",
      "execution_count": null,
      "metadata": {
        "id": "4c2d493b",
        "colab": {
          "base_uri": "https://localhost:8080/",
          "height": 703
        },
        "outputId": "01f15ae0-0a98-41f8-fcb9-9ca7ae7435dd"
      },
      "outputs": [
        {
          "output_type": "stream",
          "name": "stdout",
          "text": [
            "Out of 10,000 people:\n",
            "\n",
            "Have Disease: 100\n",
            "  - Test Positive: 95\n",
            "  - Test Negative: 5\n",
            "\n",
            "No Disease: 9,900\n",
            "  - Test Positive: 495\n",
            "  - Test Negative: 9,405\n"
          ]
        },
        {
          "output_type": "display_data",
          "data": {
            "text/plain": [
              "<Figure size 1000x600 with 1 Axes>"
            ],
            "image/png": "[encoded data removed]"
          },
          "metadata": {}
        }
      ],
      "source": [
        "import matplotlib.pyplot as plt\n",
        "import numpy as np\n",
        "\n",
        "# Population breakdown\n",
        "population = 10000\n",
        "\n",
        "# First split: Disease vs No Disease\n",
        "people_with_disease = int(population * p_disease)\n",
        "people_without_disease = population - people_with_disease\n",
        "\n",
        "# Second split: Test results\n",
        "diseased_test_positive = int(people_with_disease * p_positive_given_disease)\n",
        "diseased_test_negative = people_with_disease - diseased_test_positive\n",
        "\n",
        "healthy_test_negative = int(people_without_disease * p_negative_given_no_disease)\n",
        "healthy_test_positive = people_without_disease - healthy_test_negative\n",
        "\n",
        "print(f\"Out of {population:,} people:\\n\")\n",
        "print(f\"Have Disease: {people_with_disease}\")\n",
        "print(f\"  - Test Positive: {diseased_test_positive}\")\n",
        "print(f\"  - Test Negative: {diseased_test_negative}\")\n",
        "print(f\"\\nNo Disease: {people_without_disease:,}\")\n",
        "print(f\"  - Test Positive: {healthy_test_positive}\")\n",
        "print(f\"  - Test Negative: {healthy_test_negative:,}\")\n",
        "\n",
        "# Visualization\n",
        "fig, ax = plt.subplots(figsize=(10, 6))\n",
        "\n",
        "# Create a simple tree structure visualization\n",
        "categories = ['Disease\\n+Positive', 'Disease\\n+Negative',\n",
        "              'Healthy\\n+Positive', 'Healthy\\n+Negative']\n",
        "values = [diseased_test_positive, diseased_test_negative,\n",
        "          healthy_test_positive, healthy_test_negative]\n",
        "colors = ['red', 'orange', 'yellow', 'green']\n",
        "\n",
        "bars = ax.barh(categories, values, color=colors, edgecolor='black')\n",
        "ax.set_xlabel('Number of People')\n",
        "ax.set_title(f'Medical Test Results for {population:,} People')\n",
        "\n",
        "# Add value labels\n",
        "for i, (bar, val) in enumerate(zip(bars, values)):\n",
        "    ax.text(val + 50, i, f'{val}', va='center')\n",
        "\n",
        "plt.tight_layout()\n",
        "plt.show()"
      ]
    },
    {
      "cell_type": "markdown",
      "metadata": {
        "id": "a6ae4a30"
      },
      "source": [
        "### 📝 TO DO #2: Calculate False Positive Rate\n",
        "\n",
        "Looking at the data above, answer these questions:"
      ]
    },
    {
      "cell_type": "code",
      "execution_count": null,
      "metadata": {
        "id": "b9f06428",
        "colab": {
          "base_uri": "https://localhost:8080/"
        },
        "outputId": "41f0b681-2d5f-4a40-c193-3faa3e93c811"
      },
      "outputs": [
        {
          "output_type": "stream",
          "name": "stdout",
          "text": [
            "Total Positive Tests: 590\n",
            "\n",
            "P(Disease | Positive Test) = 95/590\n",
            "                           = 0.1610\n",
            "                           = 16.1%\n",
            "\n",
            "⚠️ Surprising result! Even with a 95% accurate test,\n",
            "only 16.1% of positive tests indicate actual disease!\n",
            "\n",
            "Why? Because the disease is rare (only 1% of population).\n"
          ]
        }
      ],
      "source": [
        "# TO DO: Calculate important probabilities\n",
        "\n",
        "# 1. What's the total number of positive tests?\n",
        "total_positive_tests = diseased_test_positive + healthy_test_positive\n",
        "print(f\"Total Positive Tests: {total_positive_tests}\\n\")\n",
        "\n",
        "# 2. Of those who test positive, how many actually have the disease?\n",
        "# This is P(Disease | Positive Test) - we'll learn this is Bayes' Theorem!\n",
        "prob_disease_given_positive = diseased_test_positive / total_positive_tests\n",
        "print(f\"P(Disease | Positive Test) = {diseased_test_positive}/{total_positive_tests}\")\n",
        "print(f\"                           = {prob_disease_given_positive:.4f}\")\n",
        "print(f\"                           = {prob_disease_given_positive * 100:.1f}%\")\n",
        "\n",
        "print(f\"\\n⚠️ Surprising result! Even with a 95% accurate test,\")\n",
        "print(f\"only {prob_disease_given_positive * 100:.1f}% of positive tests indicate actual disease!\")\n",
        "print(f\"\\nWhy? Because the disease is rare (only 1% of population).\")\n",
        "\n",
        "# TO DO: Try changing p_disease to 0.10 (10%) and see how this changes"
      ]
    },
    {
      "cell_type": "markdown",
      "metadata": {
        "id": "85a36511"
      },
      "source": [
        "---\n",
        "\n",
        "## Part C: Bayes' Theorem\n",
        "\n",
        "**Bayes' Theorem** allows us to \"reverse\" conditional probabilities. If we know P(B|A), we can find P(A|B).\n",
        "\n",
        "### The Formula\n",
        "\n",
        "$$P(A|B) = \\frac{P(B|A) \\times P(A)}{P(B)}$$\n",
        "\n",
        "Or in expanded form:\n",
        "\n",
        "$$P(A|B) = \\frac{P(B|A) \\times P(A)}{P(B|A) \\times P(A) + P(B|A') \\times P(A')}$$\n",
        "\n",
        "Where:\n",
        "- **P(A|B)** = Posterior probability (what we want to find)\n",
        "- **P(B|A)** = Likelihood (what we know)\n",
        "- **P(A)** = Prior probability (base rate)\n",
        "- **P(B)** = Marginal probability (total probability of B)\n",
        "\n",
        "### Problem 3: Spam Email Detection\n",
        "\n",
        "An email filter knows:\n",
        "- 30% of emails are spam: P(Spam) = 0.30\n",
        "- 80% of spam emails contain the word \"free\": P(\"free\" | Spam) = 0.80\n",
        "- 10% of legitimate emails contain \"free\": P(\"free\" | Not Spam) = 0.10\n",
        "\n",
        "**Question:** If an email contains \"free\", what's the probability it's spam?"
      ]
    },
    {
      "cell_type": "code",
      "execution_count": null,
      "metadata": {
        "id": "acb5fb4c",
        "colab": {
          "base_uri": "https://localhost:8080/"
        },
        "outputId": "d00ea703-5022-4d4e-990e-6577ea76865d"
      },
      "outputs": [
        {
          "output_type": "stream",
          "name": "stdout",
          "text": [
            "Spam Email Detection using Bayes' Theorem\n",
            "\n",
            "Given:\n",
            "  P(Spam) = 0.3\n",
            "  P('free' | Spam) = 0.8\n",
            "  P('free' | Not Spam) = 0.1\n",
            "\n",
            "Step 1: Calculate P('free'):\n",
            "  P('free') = P('free'|Spam)×P(Spam) + P('free'|Not Spam)×P(Not Spam)\n",
            "           = 0.8×0.3 + 0.1×0.7\n",
            "           = 0.3100\n",
            "\n",
            "Step 2: Apply Bayes' Theorem:\n",
            "  P(Spam | 'free') = P('free'|Spam) × P(Spam) / P('free')\n",
            "                   = 0.8 × 0.3 / 0.3100\n",
            "                   = 0.7742\n",
            "                   = 77.4%\n",
            "\n",
            "✓ If an email contains 'free', there's a 77.4% chance it's spam!\n"
          ]
        }
      ],
      "source": [
        "# Problem 3: Bayes' Theorem - Spam Detection\n",
        "\n",
        "# Given probabilities\n",
        "p_spam = 0.30\n",
        "p_not_spam = 1 - p_spam\n",
        "p_free_given_spam = 0.80\n",
        "p_free_given_not_spam = 0.10\n",
        "\n",
        "# Step 1: Calculate P(free) using total probability\n",
        "p_free = (p_free_given_spam * p_spam) + (p_free_given_not_spam * p_not_spam)\n",
        "\n",
        "# Step 2: Apply Bayes' Theorem\n",
        "p_spam_given_free = (p_free_given_spam * p_spam) / p_free\n",
        "\n",
        "print(\"Spam Email Detection using Bayes' Theorem\\n\")\n",
        "print(\"Given:\")\n",
        "print(f\"  P(Spam) = {p_spam}\")\n",
        "print(f\"  P('free' | Spam) = {p_free_given_spam}\")\n",
        "print(f\"  P('free' | Not Spam) = {p_free_given_not_spam}\")\n",
        "\n",
        "print(f\"\\nStep 1: Calculate P('free'):\")\n",
        "print(f\"  P('free') = P('free'|Spam)×P(Spam) + P('free'|Not Spam)×P(Not Spam)\")\n",
        "print(f\"           = {p_free_given_spam}×{p_spam} + {p_free_given_not_spam}×{p_not_spam}\")\n",
        "print(f\"           = {p_free:.4f}\")\n",
        "\n",
        "print(f\"\\nStep 2: Apply Bayes' Theorem:\")\n",
        "print(f\"  P(Spam | 'free') = P('free'|Spam) × P(Spam) / P('free')\")\n",
        "print(f\"                   = {p_free_given_spam} × {p_spam} / {p_free:.4f}\")\n",
        "print(f\"                   = {p_spam_given_free:.4f}\")\n",
        "print(f\"                   = {p_spam_given_free * 100:.1f}%\")\n",
        "\n",
        "print(f\"\\n✓ If an email contains 'free', there's a {p_spam_given_free * 100:.1f}% chance it's spam!\")"
      ]
    },
    {
      "cell_type": "markdown",
      "metadata": {
        "id": "1df74d17"
      },
      "source": [
        "### Visualizing Bayes' Theorem\n",
        "\n",
        "Let's visualize how Bayes' Theorem works with 1000 emails:"
      ]
    },
    {
      "cell_type": "code",
      "execution_count": null,
      "metadata": {
        "id": "cb997bb5",
        "colab": {
          "base_uri": "https://localhost:8080/",
          "height": 643
        },
        "outputId": "5ac7a253-1be7-4078-da04-c0b7cf62f896"
      },
      "outputs": [
        {
          "output_type": "stream",
          "name": "stdout",
          "text": [
            "Out of 1000 emails:\n",
            "\n",
            "Spam (300):\n",
            "  - Contains 'free': 240\n",
            "  - No 'free': 60\n",
            "\n",
            "Not Spam (700):\n",
            "  - Contains 'free': 70\n",
            "  - No 'free': 630\n"
          ]
        },
        {
          "output_type": "display_data",
          "data": {
            "text/plain": [
              "<Figure size 1200x500 with 2 Axes>"
            ],
            "image/png": "[encoded data removed]"
          },
          "metadata": {}
        },
        {
          "output_type": "stream",
          "name": "stdout",
          "text": [
            "\n",
            "📊 Key Insight:\n",
            "Of 310 emails with 'free', 240 are spam\n",
            "Probability = 240/310 = 0.7742\n"
          ]
        }
      ],
      "source": [
        "# Simulate 1000 emails\n",
        "total_emails = 1000\n",
        "\n",
        "# Spam emails\n",
        "spam_emails = int(total_emails * p_spam)\n",
        "spam_with_free = int(spam_emails * p_free_given_spam)\n",
        "spam_without_free = spam_emails - spam_with_free\n",
        "\n",
        "# Not spam emails\n",
        "not_spam_emails = total_emails - spam_emails\n",
        "not_spam_with_free = int(not_spam_emails * p_free_given_not_spam)\n",
        "not_spam_without_free = not_spam_emails - not_spam_with_free\n",
        "\n",
        "print(f\"Out of {total_emails} emails:\\n\")\n",
        "print(f\"Spam ({spam_emails}):\")\n",
        "print(f\"  - Contains 'free': {spam_with_free}\")\n",
        "print(f\"  - No 'free': {spam_without_free}\")\n",
        "print(f\"\\nNot Spam ({not_spam_emails}):\")\n",
        "print(f\"  - Contains 'free': {not_spam_with_free}\")\n",
        "print(f\"  - No 'free': {not_spam_without_free}\")\n",
        "\n",
        "# Visualization\n",
        "fig, (ax1, ax2) = plt.subplots(1, 2, figsize=(12, 5))\n",
        "\n",
        "# Plot 1: All emails by category\n",
        "categories1 = ['Spam\\nwith free', 'Spam\\nno free', 'Not Spam\\nwith free', 'Not Spam\\nno free']\n",
        "values1 = [spam_with_free, spam_without_free, not_spam_with_free, not_spam_without_free]\n",
        "colors1 = ['red', 'pink', 'yellow', 'lightgreen']\n",
        "ax1.bar(categories1, values1, color=colors1, edgecolor='black')\n",
        "ax1.set_ylabel('Number of Emails')\n",
        "ax1.set_title('All 1000 Emails Breakdown')\n",
        "ax1.tick_params(axis='x', rotation=45)\n",
        "\n",
        "# Plot 2: Focus on emails containing \"free\"\n",
        "total_with_free = spam_with_free + not_spam_with_free\n",
        "labels2 = ['Spam\\nwith free', 'Not Spam\\nwith free']\n",
        "sizes2 = [spam_with_free, not_spam_with_free]\n",
        "colors2 = ['red', 'lightgreen']\n",
        "ax2.pie(sizes2, labels=labels2, colors=colors2, autopct='%1.1f%%', startangle=90)\n",
        "ax2.set_title(f'Emails containing \"free\" (Total: {total_with_free})')\n",
        "\n",
        "plt.tight_layout()\n",
        "plt.show()\n",
        "\n",
        "print(f\"\\n📊 Key Insight:\")\n",
        "print(f\"Of {total_with_free} emails with 'free', {spam_with_free} are spam\")\n",
        "print(f\"Probability = {spam_with_free}/{total_with_free} = {spam_with_free/total_with_free:.4f}\")"
      ]
    },
    {
      "cell_type": "markdown",
      "metadata": {
        "id": "0331f7ed"
      },
      "source": [
        "### 📝 TO DO #3: Bayes' Theorem-Practice\n",
        "\n",
        "Try modifying the spam detection scenario:"
      ]
    },
    {
      "cell_type": "code",
      "execution_count": null,
      "metadata": {
        "id": "3d52fd79"
      },
      "outputs": [],
      "source": [
        "# TO DO: Experiment with different scenarios\n",
        "\n",
        "def bayes_spam_detection(p_spam, p_word_given_spam, p_word_given_not_spam, word=\"word\"):\n",
        "    \"\"\"Calculate P(Spam | word appears) using Bayes' Theorem\"\"\"\n",
        "    p_not_spam = 1 - p_spam\n",
        "    p_word = (p_word_given_spam * p_spam) + (p_word_given_not_spam * p_not_spam)\n",
        "    p_spam_given_word = (p_word_given_spam * p_spam) / p_word\n",
        "\n",
        "    print(f\"\\nScenario: Email contains '{word}'\")\n",
        "    print(f\"P(Spam) = {p_spam}\")\n",
        "    print(f\"P('{word}' | Spam) = {p_word_given_spam}\")\n",
        "    print(f\"P('{word}' | Not Spam) = {p_word_given_not_spam}\")\n",
        "    print(f\"Result: P(Spam | '{word}') = {p_spam_given_word:.4f} ({p_spam_given_word*100:.1f}%)\")\n",
        "    return p_spam_given_word\n",
        "\n",
        "# Original scenario\n",
        "bayes_spam_detection(0.30, 0.80, 0.10, \"free\")\n",
        "\n",
        "# TO DO: Try these scenarios by uncommenting:\n",
        "\n",
        "# Scenario 1: More spam in inbox (50% instead of 30%)\n",
        "# bayes_spam_detection(0.50, 0.80, 0.10, \"free\")\n",
        "\n",
        "# Scenario 2: Word \"winner\" appears in 90% of spam, 5% of legitimate\n",
        "# bayes_spam_detection(0.30, 0.90, 0.05, \"winner\")\n",
        "\n",
        "# Scenario 3: Word \"meeting\" appears in 10% of spam, 40% of legitimate\n",
        "# bayes_spam_detection(0.30, 0.10, 0.40, \"meeting\")"
      ]
    },
    {
      "cell_type": "markdown",
      "metadata": {
        "id": "52cb2aef"
      },
      "source": [
        "---\n",
        "\n",
        "## Part D: Independent Events\n",
        "\n",
        "Two events A and B are **independent** if the occurrence of one does NOT affect the occurrence of the other.\n",
        "\n",
        "### Mathematical Definition\n",
        "\n",
        "Events A and B are independent if:\n",
        "\n",
        "$$P(A \\cap B) = P(A) \\times P(B)$$\n",
        "\n",
        "Or equivalently:\n",
        "\n",
        "$$P(A|B) = P(A)$$\n",
        "\n",
        "**Examples of independent events:**\n",
        "- Flipping a coin twice (first flip doesn't affect second)\n",
        "- Rolling two dice (one die doesn't affect the other)\n",
        "- Drawing cards WITH replacement\n",
        "\n",
        "**Examples of dependent events:**\n",
        "- Drawing cards WITHOUT replacement\n",
        "- Weather today and weather tomorrow\n",
        "- A person's height and weight\n",
        "\n",
        "### Problem 4: Coin and Die\n",
        "\n",
        "Event A: Flipping a coin and getting Heads\n",
        "\n",
        "Event B: Rolling a die and getting a 6\n",
        "\n",
        "Are these events independent?"
      ]
    },
    {
      "cell_type": "code",
      "execution_count": null,
      "metadata": {
        "id": "7a7949ad"
      },
      "outputs": [],
      "source": [
        "# Problem 4: Testing independence - Coin and Die\n",
        "\n",
        "# Individual probabilities\n",
        "p_heads = 0.5\n",
        "p_six = 1/6\n",
        "\n",
        "# If independent, P(Heads AND 6) should equal P(Heads) × P(6)\n",
        "p_both_if_independent = p_heads * p_six\n",
        "\n",
        "print(\"Testing Independence: Coin flip and die roll\\n\")\n",
        "print(f\"P(Heads) = {p_heads}\")\n",
        "print(f\"P(Six) = {p_six:.4f}\")\n",
        "print(f\"\\nIf independent:\")\n",
        "print(f\"P(Heads AND Six) = P(Heads) × P(Six)\")\n",
        "print(f\"                 = {p_heads} × {p_six:.4f}\")\n",
        "print(f\"                 = {p_both_if_independent:.4f}\")\n",
        "\n",
        "# Verify by simulation\n",
        "import random\n",
        "\n",
        "trials = 100000\n",
        "both_occur = 0\n",
        "\n",
        "for _ in range(trials):\n",
        "    coin = random.choice(['H', 'T'])\n",
        "    die = random.randint(1, 6)\n",
        "    if coin == 'H' and die == 6:\n",
        "        both_occur += 1\n",
        "\n",
        "simulated_prob = both_occur / trials\n",
        "\n",
        "print(f\"\\nSimulation Verification ({trials:,} trials):\")\n",
        "print(f\"P(Heads AND Six) ≈ {simulated_prob:.4f}\")\n",
        "print(f\"\\n✓ The events are INDEPENDENT because the simulated probability\")\n",
        "print(f\"  matches the theoretical probability from multiplication.\")"
      ]
    },
    {
      "cell_type": "markdown",
      "metadata": {
        "id": "f9af9ab4"
      },
      "source": [
        "### Problem 5: Drawing Cards - Comparing With and Without Replacement\n",
        "\n",
        "Let's compare independent vs dependent events:"
      ]
    },
    {
      "cell_type": "code",
      "execution_count": null,
      "metadata": {
        "id": "ade590ee"
      },
      "outputs": [],
      "source": [
        "# Problem 5: Cards - With vs Without Replacement\n",
        "\n",
        "# Scenario A: WITH replacement (independent)\n",
        "print(\"SCENARIO A: Drawing cards WITH replacement\\n\")\n",
        "p_first_king = 4/52\n",
        "p_second_king_with_replacement = 4/52  # Same! Deck is restored\n",
        "p_both_kings_with = p_first_king * p_second_king_with_replacement\n",
        "\n",
        "print(f\"P(1st King) = {p_first_king:.4f}\")\n",
        "print(f\"P(2nd King | 1st King) = {p_second_king_with_replacement:.4f}\")\n",
        "print(f\"P(Both Kings) = {p_first_king:.4f} × {p_second_king_with_replacement:.4f} = {p_both_kings_with:.6f}\")\n",
        "print(f\"\\nThe events are INDEPENDENT\\n\")\n",
        "print(\"-\" * 50)\n",
        "\n",
        "# Scenario B: WITHOUT replacement (dependent)\n",
        "print(\"\\nSCENARIO B: Drawing cards WITHOUT replacement\\n\")\n",
        "p_first_king = 4/52\n",
        "p_second_king_without_replacement = 3/51  # Different! One King removed\n",
        "p_both_kings_without = p_first_king * p_second_king_without_replacement\n",
        "\n",
        "print(f\"P(1st King) = {p_first_king:.4f}\")\n",
        "print(f\"P(2nd King | 1st King) = {p_second_king_without_replacement:.4f}\")\n",
        "print(f\"P(Both Kings) = {p_first_king:.4f} × {p_second_king_without_replacement:.4f} = {p_both_kings_without:.6f}\")\n",
        "print(f\"\\nThe events are DEPENDENT\")\n",
        "\n",
        "# Comparison\n",
        "print(\"\\n\" + \"=\" * 50)\n",
        "print(\"COMPARISON:\")\n",
        "print(f\"With replacement (independent):    {p_both_kings_with:.6f}\")\n",
        "print(f\"Without replacement (dependent):   {p_both_kings_without:.6f}\")\n",
        "print(f\"Difference: {abs(p_both_kings_with - p_both_kings_without):.6f}\")"
      ]
    },
    {
      "cell_type": "markdown",
      "metadata": {
        "id": "e55eda4b"
      },
      "source": [
        "### 📝 TO DO #4: Test Your Understanding of Independence\n",
        "\n",
        "Determine if these pairs of events are independent or dependent:"
      ]
    },
    {
      "cell_type": "code",
      "execution_count": null,
      "metadata": {
        "id": "afb0f70a"
      },
      "outputs": [],
      "source": [
        "# TO DO: For each scenario, determine if events are independent\n",
        "\n",
        "print(\"Exercise: Identify Independent vs Dependent Events\\n\")\n",
        "\n",
        "scenarios = [\n",
        "    (\"Rolling a die twice\", \"Independent\",\n",
        "     \"Each roll doesn't affect the other\"),\n",
        "\n",
        "    (\"Drawing 2 cards without replacement\", \"Dependent\",\n",
        "     \"First draw affects the second\"),\n",
        "\n",
        "    (\"Flipping a coin and checking the weather\", \"Independent\",\n",
        "     \"Coin flip doesn't affect weather\"),\n",
        "\n",
        "    (\"Student's study time and exam score\", \"Dependent\",\n",
        "     \"Studying affects exam performance\"),\n",
        "\n",
        "    (\"Two separate lottery drawings\", \"Independent\",\n",
        "     \"One drawing doesn't affect the other\"),\n",
        "]\n",
        "\n",
        "for i, (scenario, answer, reason) in enumerate(scenarios, 1):\n",
        "    print(f\"{i}. {scenario}\")\n",
        "    # TO DO: Before revealing, think about your answer!\n",
        "    print(f\"   Answer: {answer}\")\n",
        "    print(f\"   Reason: {reason}\\n\")\n",
        "\n",
        "# TO DO: Create your own scenarios and test if they're independent!"
      ]
    },
    {
      "cell_type": "markdown",
      "metadata": {
        "id": "35e22c19"
      },
      "source": [
        "---\n",
        "\n",
        "## Part E: Naive Bayes Classification\n",
        "\n",
        "**Naive Bayes** is a machine learning algorithm based on Bayes' Theorem. It's called \"naive\" because it assumes all features are independent (which isn't always true, but it works well anyway!).\n",
        "\n",
        "### Application: Text Classification\n",
        "\n",
        "Let's build a simple spam detector using Naive Bayes.\n",
        "\n",
        "### Problem 6: Multi-word Spam Detection\n",
        "\n",
        "We have three words to check: \"free\", \"winner\", \"meeting\"\n",
        "\n",
        "Given probabilities:\n",
        "- P(Spam) = 0.30\n",
        "- P(\"free\" | Spam) = 0.80, P(\"free\" | Not Spam) = 0.10\n",
        "- P(\"winner\" | Spam) = 0.70, P(\"winner\" | Not Spam) = 0.05\n",
        "- P(\"meeting\" | Spam) = 0.20, P(\"meeting\" | Not Spam) = 0.60\n",
        "\n",
        "**Question:** If an email contains \"free\" and \"winner\", what's P(Spam)?"
      ]
    },
    {
      "cell_type": "code",
      "execution_count": null,
      "metadata": {
        "id": "e8625c01"
      },
      "outputs": [],
      "source": [
        "# Problem 6: Naive Bayes with multiple words\n",
        "\n",
        "# Given probabilities\n",
        "p_spam = 0.30\n",
        "p_not_spam = 0.70\n",
        "\n",
        "# Word probabilities\n",
        "words_given_spam = {\n",
        "    'free': 0.80,\n",
        "    'winner': 0.70,\n",
        "    'meeting': 0.20\n",
        "}\n",
        "\n",
        "words_given_not_spam = {\n",
        "    'free': 0.10,\n",
        "    'winner': 0.05,\n",
        "    'meeting': 0.60\n",
        "}\n",
        "\n",
        "def naive_bayes_classify(words_in_email, show_steps=True):\n",
        "    \"\"\"Classify email as spam or not spam using Naive Bayes\"\"\"\n",
        "\n",
        "    # Calculate P(words | Spam) - multiply all word probabilities\n",
        "    p_words_given_spam = p_spam\n",
        "    for word in words_in_email:\n",
        "        p_words_given_spam *= words_given_spam[word]\n",
        "\n",
        "    # Calculate P(words | Not Spam)\n",
        "    p_words_given_not_spam = p_not_spam\n",
        "    for word in words_in_email:\n",
        "        p_words_given_not_spam *= words_given_not_spam[word]\n",
        "\n",
        "    # Total probability\n",
        "    p_words = p_words_given_spam + p_words_given_not_spam\n",
        "\n",
        "    # Apply Bayes' Theorem\n",
        "    p_spam_given_words = p_words_given_spam / p_words\n",
        "    p_not_spam_given_words = p_words_given_not_spam / p_words\n",
        "\n",
        "    if show_steps:\n",
        "        print(f\"Email contains: {', '.join(words_in_email)}\\n\")\n",
        "        print(f\"P(words | Spam) × P(Spam) = {p_words_given_spam:.6f}\")\n",
        "        print(f\"P(words | Not Spam) × P(Not Spam) = {p_words_given_not_spam:.6f}\")\n",
        "        print(f\"\\nP(Spam | words) = {p_spam_given_words:.4f} ({p_spam_given_words*100:.1f}%)\")\n",
        "        print(f\"P(Not Spam | words) = {p_not_spam_given_words:.4f} ({p_not_spam_given_words*100:.1f}%)\")\n",
        "        print(f\"\\n{'🚫 SPAM' if p_spam_given_words > 0.5 else '✓ NOT SPAM'}\")\n",
        "\n",
        "    return p_spam_given_words\n",
        "\n",
        "# Example 1: Email with \"free\" and \"winner\"\n",
        "naive_bayes_classify(['free', 'winner'])"
      ]
    },
    {
      "cell_type": "markdown",
      "metadata": {
        "id": "7dfcd579"
      },
      "source": [
        "### Visualizing Naive Bayes Decision\n",
        "\n",
        "Let's see how different word combinations affect spam classification:"
      ]
    },
    {
      "cell_type": "code",
      "execution_count": null,
      "metadata": {
        "id": "840026ce"
      },
      "outputs": [],
      "source": [
        "# Test multiple email scenarios\n",
        "import pandas as pd\n",
        "\n",
        "test_emails = [\n",
        "    (['free'], 'Spam'),\n",
        "    (['winner'], 'Spam'),\n",
        "    (['meeting'], 'Not Spam'),\n",
        "    (['free', 'winner'], 'Likely Spam'),\n",
        "    (['free', 'meeting'], 'Uncertain'),\n",
        "    (['winner', 'meeting'], 'Uncertain'),\n",
        "    (['free', 'winner', 'meeting'], 'Mixed')\n",
        "]\n",
        "\n",
        "results = []\n",
        "for words, expected in test_emails:\n",
        "    prob_spam = naive_bayes_classify(words, show_steps=False)\n",
        "    prob_not_spam = 1 - prob_spam\n",
        "    classification = 'SPAM' if prob_spam > 0.5 else 'NOT SPAM'\n",
        "    results.append({\n",
        "        'Words': ' + '.join(words),\n",
        "        'P(Spam)': f'{prob_spam:.4f}',\n",
        "        'P(Not Spam)': f'{prob_not_spam:.4f}',\n",
        "        'Classification': classification,\n",
        "        'Expected': expected\n",
        "    })\n",
        "\n",
        "# Display results\n",
        "df = pd.DataFrame(results)\n",
        "print(\"\\nNaive Bayes Classification Results:\\n\")\n",
        "print(df.to_string(index=False))\n",
        "\n",
        "# Visualization\n",
        "fig, ax = plt.subplots(figsize=(10, 6))\n",
        "emails = [r['Words'] for r in results]\n",
        "spam_probs = [float(r['P(Spam)']) for r in results]\n",
        "not_spam_probs = [float(r['P(Not Spam)']) for r in results]\n",
        "\n",
        "x = range(len(emails))\n",
        "width = 0.35\n",
        "\n",
        "bars1 = ax.bar([i - width/2 for i in x], spam_probs, width, label='P(Spam)', color='red', alpha=0.7)\n",
        "bars2 = ax.bar([i + width/2 for i in x], not_spam_probs, width, label='P(Not Spam)', color='green', alpha=0.7)\n",
        "\n",
        "ax.set_ylabel('Probability')\n",
        "ax.set_title('Naive Bayes Spam Classification by Word Combination')\n",
        "ax.set_xticks(x)\n",
        "ax.set_xticklabels(emails, rotation=45, ha='right')\n",
        "ax.legend()\n",
        "ax.axhline(y=0.5, color='black', linestyle='--', linewidth=1, label='Decision Boundary')\n",
        "ax.set_ylim(0, 1)\n",
        "\n",
        "plt.tight_layout()\n",
        "plt.show()"
      ]
    },
    {
      "cell_type": "markdown",
      "metadata": {
        "id": "b6aaa24a"
      },
      "source": [
        "### 📝 TO DO #5: Build Your Own Spam Detector\n",
        "\n",
        "Experiment with the Naive Bayes classifier:"
      ]
    },
    {
      "cell_type": "code",
      "execution_count": null,
      "metadata": {
        "id": "c1207309"
      },
      "outputs": [],
      "source": [
        "# TO DO: Add new words and test different email combinations\n",
        "\n",
        "# Add new words to the dictionary\n",
        "words_given_spam['urgent'] = 0.60\n",
        "words_given_not_spam['urgent'] = 0.15\n",
        "\n",
        "words_given_spam['hello'] = 0.30\n",
        "words_given_not_spam['hello'] = 0.70\n",
        "\n",
        "# Test new combinations\n",
        "print(\"Testing custom email scenarios:\\n\")\n",
        "\n",
        "# Scenario 1: Very spammy email\n",
        "print(\"1. Email: 'free', 'winner', 'urgent'\")\n",
        "naive_bayes_classify(['free', 'winner', 'urgent'])\n",
        "\n",
        "print(\"\\n\" + \"=\"*50 + \"\\n\")\n",
        "\n",
        "# Scenario 2: Legitimate email\n",
        "print(\"2. Email: 'meeting', 'hello'\")\n",
        "naive_bayes_classify(['meeting', 'hello'])\n",
        "\n",
        "print(\"\\n\" + \"=\"*50 + \"\\n\")\n",
        "\n",
        "# TO DO: Create your own test cases\n",
        "# What words would make an email definitely spam?\n",
        "# What words would make it definitely legitimate?\n",
        "\n",
        "# Your tests here:"
      ]
    },
    {
      "cell_type": "markdown",
      "metadata": {
        "id": "0ba14fdb"
      },
      "source": [
        "### 📝 TO DO #6: Real-World Applications\n",
        "\n",
        "Brainstorm and discuss:\n",
        "\n",
        "1. **Medical Diagnosis**: How could Bayes' Theorem help diagnose diseases?\n",
        "   - Prior: Disease prevalence in population\n",
        "   - Likelihood: Test accuracy\n",
        "   - Posterior: Probability patient has disease given test result\n",
        "\n",
        "2. **Weather Prediction**: Given cloudy skies, what's the probability of rain?\n",
        "   - Prior: Historical rain frequency\n",
        "   - Likelihood: Cloud patterns before rain\n",
        "   - Posterior: Rain probability given current clouds\n",
        "\n",
        "3. **Fraud Detection**: Is this credit card transaction fraudulent?\n",
        "   - Prior: Fraud rate\n",
        "   - Likelihood: Transaction patterns of fraud vs legitimate\n",
        "   - Posterior: Fraud probability given transaction details\n",
        "\n",
        "**Discussion Questions:**\n",
        "- Why is the \"prior probability\" important?\n",
        "- What happens if we have very rare events (low prior)?\n",
        "- How does sample size affect our confidence?"
      ]
    },
    {
      "cell_type": "markdown",
      "metadata": {
        "id": "a7bdc352"
      },
      "source": [
        "---\n",
        "\n",
        "## Summary\n",
        "\n",
        "### Key Concepts Covered:\n",
        "\n",
        "**1. Conditional Probability:**\n",
        "- P(A|B) = P(A ∩ B) / P(B)\n",
        "- Probability of A given that B has occurred\n",
        "- Sample space restricted to cases where B is true\n",
        "\n",
        "**2. Multiplication Rule:**\n",
        "- P(A ∩ B) = P(A) × P(B|A) = P(B) × P(A|B)\n",
        "- Used to find probability of both events occurring\n",
        "\n",
        "**3. Bayes' Theorem:**\n",
        "- P(A|B) = [P(B|A) × P(A)] / P(B)\n",
        "- Allows us to \"reverse\" conditional probabilities\n",
        "- Crucial for updating beliefs with new evidence\n",
        "\n",
        "**4. Independent Events:**\n",
        "- P(A ∩ B) = P(A) × P(B)\n",
        "- P(A|B) = P(A)\n",
        "- One event doesn't affect the other\n",
        "\n",
        "**5. Naive Bayes Classification:**\n",
        "- Machine learning algorithm based on Bayes' Theorem\n",
        "- Assumes feature independence\n",
        "- Effective for text classification, spam filtering\n",
        "\n",
        "---"
      ]
    },
    {
      "cell_type": "markdown",
      "metadata": {
        "id": "9a2c88b4"
      },
      "source": [
        "## Practice Problems\n",
        "\n",
        "**Problem A:** Medical Testing\n",
        "- 2% of population has a disease\n",
        "- Test is 98% accurate for positive cases\n",
        "- Test is 95% accurate for negative cases\n",
        "- If someone tests positive, what's P(Disease)?\n",
        "\n",
        "**Problem B:** Drawing Balls\n",
        "- Bag has 5 red and 3 blue balls\n",
        "- Draw 2 without replacement\n",
        "- Find: P(2nd red | 1st red)\n",
        "\n",
        "**Problem C:** Email Classification\n",
        "- 40% of emails are spam\n",
        "- \"discount\" appears in 85% of spam, 15% of legitimate emails\n",
        "- If email has \"discount\", is it spam?\n",
        "\n",
        "**Problem D:** Independence Test\n",
        "- Are \"drawing a spade\" and \"drawing a king\" independent events when drawing from a standard deck?\n",
        "\n",
        "**Problem E:** Multiple Events\n",
        "- Roll two dice\n",
        "- Event A: First die shows 6\n",
        "- Event B: Sum is 8\n",
        "- Are A and B independent?\n",
        "\n",
        "---"
      ]
    },
    {
      "cell_type": "markdown",
      "metadata": {
        "id": "e056b6cf"
      },
      "source": [
        "## Important Formulas to Remember\n",
        "\n",
        "```\n",
        "Conditional Probability:\n",
        "P(A|B) = P(A ∩ B) / P(B)\n",
        "\n",
        "Multiplication Rule:\n",
        "P(A ∩ B) = P(A) × P(B|A)\n",
        "\n",
        "Bayes' Theorem:\n",
        "P(A|B) = [P(B|A) × P(A)] / P(B)\n",
        "\n",
        "Bayes' Theorem (Expanded):\n",
        "P(A|B) = [P(B|A) × P(A)] / [P(B|A) × P(A) + P(B|A') × P(A')]\n",
        "\n",
        "Independence:\n",
        "P(A ∩ B) = P(A) × P(B)\n",
        "P(A|B) = P(A)\n",
        "\n",
        "Total Probability:\n",
        "P(B) = P(B|A) × P(A) + P(B|A') × P(A')\n",
        "```\n",
        "\n",
        "---"
      ]
    }
  ]
}